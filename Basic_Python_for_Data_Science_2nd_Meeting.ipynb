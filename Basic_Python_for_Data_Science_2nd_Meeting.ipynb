{
  "nbformat": 4,
  "nbformat_minor": 0,
  "metadata": {
    "colab": {
      "name": "Basic Python for Data Science 2nd Meeting.ipynb",
      "provenance": [],
      "authorship_tag": "ABX9TyNkfJBL+4htp3+wFXVTslqQ",
      "include_colab_link": true
    },
    "kernelspec": {
      "name": "python3",
      "display_name": "Python 3"
    }
  },
  "cells": [
    {
      "cell_type": "markdown",
      "metadata": {
        "id": "view-in-github",
        "colab_type": "text"
      },
      "source": [
        "<a href=\"https://colab.research.google.com/github/zulfacn/PortoFolio/blob/master/Basic_Python_for_Data_Science_2nd_Meeting.ipynb\" target=\"_parent\"><img src=\"https://colab.research.google.com/assets/colab-badge.svg\" alt=\"Open In Colab\"/></a>"
      ]
    },
    {
      "cell_type": "markdown",
      "metadata": {
        "id": "br8_5XirY0Ry"
      },
      "source": [
        "# A. Condition and Branching \n"
      ]
    },
    {
      "cell_type": "markdown",
      "metadata": {
        "id": "O54K-FxgZFqL"
      },
      "source": [
        "## 1. Condition"
      ]
    },
    {
      "cell_type": "code",
      "metadata": {
        "id": "PIWMidplZXbJ",
        "outputId": "22e6c518-426d-4f7d-af06-7e95ef0164ca",
        "colab": {
          "base_uri": "https://localhost:8080/"
        }
      },
      "source": [
        "#membuat variabel \n",
        "a = 6\n",
        "\n",
        "#cek apakah a = 7\n",
        "a==7"
      ],
      "execution_count": null,
      "outputs": [
        {
          "output_type": "execute_result",
          "data": {
            "text/plain": [
              "False"
            ]
          },
          "metadata": {
            "tags": []
          },
          "execution_count": 2
        }
      ]
    },
    {
      "cell_type": "code",
      "metadata": {
        "id": "SsBhwzgYZlBS",
        "outputId": "04f187c8-fd39-4235-a70b-fbfdf11e7ee7",
        "colab": {
          "base_uri": "https://localhost:8080/"
        }
      },
      "source": [
        "#cek apakah a>5\n",
        "a > 5"
      ],
      "execution_count": null,
      "outputs": [
        {
          "output_type": "execute_result",
          "data": {
            "text/plain": [
              "True"
            ]
          },
          "metadata": {
            "tags": []
          },
          "execution_count": 3
        }
      ]
    },
    {
      "cell_type": "code",
      "metadata": {
        "id": "QE0laoPjZ1K3",
        "outputId": "2f007f11-01a0-4bcc-c979-9d84a6953f71",
        "colab": {
          "base_uri": "https://localhost:8080/"
        }
      },
      "source": [
        "#cek apakah a~=2\n",
        "a != 2"
      ],
      "execution_count": null,
      "outputs": [
        {
          "output_type": "execute_result",
          "data": {
            "text/plain": [
              "True"
            ]
          },
          "metadata": {
            "tags": []
          },
          "execution_count": 4
        }
      ]
    },
    {
      "cell_type": "markdown",
      "metadata": {
        "id": "eAcTGTt9aMGy"
      },
      "source": [
        "Selain perbandingan numerik, condition juga dapat melakukan perbandingan karater dan string"
      ]
    },
    {
      "cell_type": "code",
      "metadata": {
        "id": "PMrK6QbLaW1A",
        "outputId": "15a55ed5-2934-4dd9-e735-d8580b574630",
        "colab": {
          "base_uri": "https://localhost:8080/"
        }
      },
      "source": [
        "\"AC/DC\"==\"Michael Jackson\""
      ],
      "execution_count": null,
      "outputs": [
        {
          "output_type": "execute_result",
          "data": {
            "text/plain": [
              "False"
            ]
          },
          "metadata": {
            "tags": []
          },
          "execution_count": 5
        }
      ]
    },
    {
      "cell_type": "code",
      "metadata": {
        "id": "gkyxMpDHagoD",
        "outputId": "4b73a9d8-2e0e-4c75-efd5-c5a111d0f7cf",
        "colab": {
          "base_uri": "https://localhost:8080/"
        }
      },
      "source": [
        "\"AC/DC\" != \"Michael Jackson\""
      ],
      "execution_count": null,
      "outputs": [
        {
          "output_type": "execute_result",
          "data": {
            "text/plain": [
              "True"
            ]
          },
          "metadata": {
            "tags": []
          },
          "execution_count": 6
        }
      ]
    },
    {
      "cell_type": "markdown",
      "metadata": {
        "id": "jvJN_Pd9au9O"
      },
      "source": [
        "## 2. Branching"
      ]
    },
    {
      "cell_type": "markdown",
      "metadata": {
        "id": "YGbB4N7ga_VP"
      },
      "source": [
        "Branching allows us to run different\n",
        "statements for a different input.\n",
        "It's helpful to think of an “if statement” as a\n",
        "locked room:\n",
        "If the statement is true, you can enter the\n",
        "room, and your program can run some\n",
        "predefined task.\n",
        "If the statement is false, your program will\n",
        "skip the task"
      ]
    },
    {
      "cell_type": "markdown",
      "metadata": {
        "id": "r_ddroqMbuxd"
      },
      "source": [
        "### a. Branching - If"
      ]
    },
    {
      "cell_type": "markdown",
      "metadata": {
        "id": "9UvaqVj-bRnt"
      },
      "source": [
        "###### **Example**"
      ]
    },
    {
      "cell_type": "markdown",
      "metadata": {
        "id": "i5k3Ic8lbUdo"
      },
      "source": [
        "For example, there will be AC/DC's consert tonight. If the individual is 18 or older, they can enter the ACDC concert. If they are under the age of 18, they cannot enter the concert."
      ]
    },
    {
      "cell_type": "code",
      "metadata": {
        "id": "uWmnp4vZayh2",
        "outputId": "ad81f757-e1df-45dc-ea95-ee51a51149a0",
        "colab": {
          "base_uri": "https://localhost:8080/"
        }
      },
      "source": [
        "age = 15\n",
        "if (age >= 18):\n",
        "  print(\"You can enter\")\n",
        "print(\"You can move on\")"
      ],
      "execution_count": null,
      "outputs": [
        {
          "output_type": "stream",
          "text": [
            "You can move on\n"
          ],
          "name": "stdout"
        }
      ]
    },
    {
      "cell_type": "markdown",
      "metadata": {
        "id": "cf9-CftlccFH"
      },
      "source": [
        "#### b. Branching - Else "
      ]
    },
    {
      "cell_type": "markdown",
      "metadata": {
        "id": "K2Cfy-DKb_qc"
      },
      "source": [
        "The “else statement” will run a different block\n",
        "of code, if the same condition is false."
      ]
    },
    {
      "cell_type": "markdown",
      "metadata": {
        "id": "PgH9cL9vcC-H"
      },
      "source": [
        "##### Example"
      ]
    },
    {
      "cell_type": "markdown",
      "metadata": {
        "id": "ufnAwDFmcWTH"
      },
      "source": [
        "Let’s use the ACDC concert analogy again; if the user is 17, they cannot go to the ACDC concert, but they can go to the Meat Loaf concert . If the individual is 19, the condition is true. They can enter the ACDC concert, then they can move on as before."
      ]
    },
    {
      "cell_type": "code",
      "metadata": {
        "id": "nfQZMiepcXeK",
        "outputId": "086e49d7-0430-4391-af39-9a5b059e5467",
        "colab": {
          "base_uri": "https://localhost:8080/"
        }
      },
      "source": [
        "age = 19\n",
        "if (age > 18):\n",
        "  print (\"you can enter\")\n",
        "else: \n",
        "  print (\"go watch Meat Loaf\")\n",
        "print (\"you can move on \")"
      ],
      "execution_count": null,
      "outputs": [
        {
          "output_type": "stream",
          "text": [
            "you can enter\n",
            "you can move on \n"
          ],
          "name": "stdout"
        }
      ]
    },
    {
      "cell_type": "markdown",
      "metadata": {
        "id": "NWoS4xDKdLl5"
      },
      "source": [
        "#### c. Branching - Elif"
      ]
    },
    {
      "cell_type": "markdown",
      "metadata": {
        "id": "JNg_EMIFdU8N"
      },
      "source": [
        "The elif statement, short for “else if,” allows us to check additional conditions, if the proceeding condition is false. If the condition is true, the alternate expressions will be run."
      ]
    },
    {
      "cell_type": "markdown",
      "metadata": {
        "id": "21onjTHhdalg"
      },
      "source": [
        "##### Example"
      ]
    },
    {
      "cell_type": "markdown",
      "metadata": {
        "id": "LB6JE8rodgUd"
      },
      "source": [
        "Consider the concert example, if the individual is 18, they will go to the Pink Floyd concert, instead of attending the ACDC or\n",
        "Meat Loaf concert. The person of 18 years of age enters the area as they are not over 19 years of age. They cannot see ACDC, but as they are 18 years, they attend Pink Floyd. After seeing Pink Floyd, they move on."
      ]
    },
    {
      "cell_type": "code",
      "metadata": {
        "id": "8SiXG9Hbdd_c",
        "outputId": "a9cf24ec-5e2d-4ad0-9447-f2897d53367e",
        "colab": {
          "base_uri": "https://localhost:8080/"
        }
      },
      "source": [
        "age = 22\n",
        "if (age > 18):\n",
        "  print (\"you can enter\")\n",
        "elif (age==18):\n",
        "  print(\"go see Pink Floyd\")\n",
        "else: \n",
        "    print(\"go see Meat Loaf\")\n",
        "print(\"you can move on\")"
      ],
      "execution_count": null,
      "outputs": [
        {
          "output_type": "stream",
          "text": [
            "you can enter\n",
            "you can move on\n"
          ],
          "name": "stdout"
        }
      ]
    },
    {
      "cell_type": "markdown",
      "metadata": {
        "id": "CF2xclULezLS"
      },
      "source": [
        "# B. Loops"
      ]
    },
    {
      "cell_type": "markdown",
      "metadata": {
        "id": "XwDgebbgfluo"
      },
      "source": [
        "## 1. Loops - for"
      ]
    },
    {
      "cell_type": "markdown",
      "metadata": {
        "id": "GWd_3l_Ifumz"
      },
      "source": [
        "In this section, we will cover “for loops”. We will focus on lists, but many of the procedures can be used on tuples. Loops perform a task over and over."
      ]
    },
    {
      "cell_type": "markdown",
      "metadata": {
        "id": "VPath66XjAei"
      },
      "source": [
        "##### Example 1"
      ]
    },
    {
      "cell_type": "code",
      "metadata": {
        "id": "0G5N3CCnfwVu",
        "outputId": "5ae189f1-bc55-4818-931d-1dcbf5431d65",
        "colab": {
          "base_uri": "https://localhost:8080/"
        }
      },
      "source": [
        "#replace all square_1 to white\n",
        "square_1 = [\"red\",\"yellow\",\"green\",\"purple\",\"blue\"]\n",
        "for i in range(0,5):\n",
        "  square_1[i] = \"white\"\n",
        "print(square_1)"
      ],
      "execution_count": null,
      "outputs": [
        {
          "output_type": "stream",
          "text": [
            "['white', 'white', 'white', 'white', 'white']\n"
          ],
          "name": "stdout"
        }
      ]
    },
    {
      "cell_type": "markdown",
      "metadata": {
        "id": "tHx0E7rIkN9C"
      },
      "source": [
        "##### Example 2"
      ]
    },
    {
      "cell_type": "code",
      "metadata": {
        "id": "62-br6DKkTCH",
        "outputId": "e35a80d8-3657-4031-a111-e74ee2135851",
        "colab": {
          "base_uri": "https://localhost:8080/"
        }
      },
      "source": [
        "#mention all member of list squares\n",
        "squares = [\"red\",\"yellow\",\"green\"]\n",
        "for square in squares:\n",
        "  print(square)"
      ],
      "execution_count": null,
      "outputs": [
        {
          "output_type": "stream",
          "text": [
            "red\n",
            "yellow\n",
            "green\n"
          ],
          "name": "stdout"
        }
      ]
    },
    {
      "cell_type": "markdown",
      "metadata": {
        "id": "JFDPSmxqk_qA"
      },
      "source": [
        "##### Example 3"
      ]
    },
    {
      "cell_type": "code",
      "metadata": {
        "id": "l-dbRjSjrFXS",
        "outputId": "ad319a40-6e27-4a6a-dc5b-c1337ba035a7",
        "colab": {
          "base_uri": "https://localhost:8080/"
        }
      },
      "source": [
        "#mention all member of list squares\n",
        "squares = [\"red\",\"yellow\",\"green\"]\n",
        "for i,square in enumerate(squares):\n",
        "  square\n",
        "  i\n",
        "  print(square)"
      ],
      "execution_count": null,
      "outputs": [
        {
          "output_type": "stream",
          "text": [
            "red\n",
            "yellow\n",
            "green\n"
          ],
          "name": "stdout"
        }
      ]
    },
    {
      "cell_type": "markdown",
      "metadata": {
        "id": "299m6UHds5GX"
      },
      "source": [
        "## 2. While Loops"
      ]
    },
    {
      "cell_type": "markdown",
      "metadata": {
        "id": "t0WXgny-tAlW"
      },
      "source": [
        "“While loops” are similar to “for loops”, but instead of executing a statement a set number of times, a while loop will only run if a condition is met.\n"
      ]
    },
    {
      "cell_type": "markdown",
      "metadata": {
        "id": "jDXehw0l1vEj"
      },
      "source": [
        "##### Example"
      ]
    },
    {
      "cell_type": "code",
      "metadata": {
        "id": "_krvWNJ05D-J",
        "outputId": "6014f5c9-205b-4819-f801-4debc57c19b4",
        "colab": {
          "base_uri": "https://localhost:8080/"
        }
      },
      "source": [
        "count = 0\n",
        "while (count < 9):\n",
        "    print (\"The count is: \", count)\n",
        "    count = count + 1\n",
        "\n",
        "print (\"Good bye!\")"
      ],
      "execution_count": null,
      "outputs": [
        {
          "output_type": "stream",
          "text": [
            "The count is:  0\n",
            "The count is:  1\n",
            "The count is:  2\n",
            "The count is:  3\n",
            "The count is:  4\n",
            "The count is:  5\n",
            "The count is:  6\n",
            "The count is:  7\n",
            "The count is:  8\n",
            "Good bye!\n"
          ],
          "name": "stdout"
        }
      ]
    },
    {
      "cell_type": "markdown",
      "metadata": {
        "id": "A2j9lYmJ5RMh"
      },
      "source": [
        "# C. Function"
      ]
    },
    {
      "cell_type": "markdown",
      "metadata": {
        "id": "hojmjqDj5mKV"
      },
      "source": [
        "Functions take some input then produce some output or change. The function is just a piece of code you can reuse.\n",
        "\n",
        "You can implement your own function, but in many cases, you use other people’s functions"
      ]
    },
    {
      "cell_type": "markdown",
      "metadata": {
        "id": "95_u_-dN5tJ_"
      },
      "source": [
        "#### Example 1"
      ]
    },
    {
      "cell_type": "code",
      "metadata": {
        "id": "dmheu5495l4A"
      },
      "source": [
        "def function(a):\n",
        "  \"\"\"add 1 to a\"\"\"\n",
        "  b=a+1;\n",
        "  \n",
        "  print(a,\"+1=\",b)\n",
        "  a=2\n",
        "  return b"
      ],
      "execution_count": null,
      "outputs": []
    },
    {
      "cell_type": "markdown",
      "metadata": {
        "id": "vPTdXlyR66pH"
      },
      "source": [
        "Python has many built-in functions; you don't have to know how those functions work internally, but simply what task those functions perform. "
      ]
    },
    {
      "cell_type": "markdown",
      "metadata": {
        "id": "-4jbMe1_BQ2e"
      },
      "source": [
        "#### Example 2"
      ]
    },
    {
      "cell_type": "code",
      "metadata": {
        "id": "P3PKXAm9BTml",
        "outputId": "b7052f35-9c63-40d4-b121-6413d0f057f2",
        "colab": {
          "base_uri": "https://localhost:8080/"
        }
      },
      "source": [
        "def add1(a):\n",
        "  b=a+1\n",
        "\n",
        "  return(b)\n",
        "c=add1(5)\n",
        "c"
      ],
      "execution_count": null,
      "outputs": [
        {
          "output_type": "execute_result",
          "data": {
            "text/plain": [
              "6"
            ]
          },
          "metadata": {
            "tags": []
          },
          "execution_count": 32
        }
      ]
    },
    {
      "cell_type": "markdown",
      "metadata": {
        "id": "TOQvFfyC6-hp"
      },
      "source": [
        "## 1. Function - len"
      ]
    },
    {
      "cell_type": "markdown",
      "metadata": {
        "id": "_ijpQI3j8ZjX"
      },
      "source": [
        "The function len takes in an input of type sequence, such as a string or list, or type collection, such as a dictionary or set, and returns the length of that sequence or collection ."
      ]
    },
    {
      "cell_type": "markdown",
      "metadata": {
        "id": "11u4hv8T8gFq"
      },
      "source": [
        "#### Example"
      ]
    },
    {
      "cell_type": "code",
      "metadata": {
        "id": "gRVP2CaV8boL",
        "outputId": "3d620c03-bec8-4507-eaa3-8d0340cbe82f",
        "colab": {
          "base_uri": "https://localhost:8080/"
        }
      },
      "source": [
        "album_ratings=[10.0,8.5,9.5,7.0,7.0,9.5,9.0,9.5]\n",
        "L=len(album_ratings)\n",
        "L"
      ],
      "execution_count": null,
      "outputs": [
        {
          "output_type": "execute_result",
          "data": {
            "text/plain": [
              "8"
            ]
          },
          "metadata": {
            "tags": []
          },
          "execution_count": 26
        }
      ]
    },
    {
      "cell_type": "markdown",
      "metadata": {
        "id": "YJWYTlwe-APd"
      },
      "source": [
        "## 2. Function - sum "
      ]
    },
    {
      "cell_type": "markdown",
      "metadata": {
        "id": "3YgTqNr7-Nsp"
      },
      "source": [
        "Function sum takes in an ite rable like a tuple or list and returns the total of all the elements"
      ]
    },
    {
      "cell_type": "markdown",
      "metadata": {
        "id": "y9htlaSB-eeH"
      },
      "source": [
        "#### Example"
      ]
    },
    {
      "cell_type": "code",
      "metadata": {
        "id": "8EFkFXJG-D5k",
        "outputId": "3e08c96b-f1bf-4ab9-f28b-0cf40e593e32",
        "colab": {
          "base_uri": "https://localhost:8080/"
        }
      },
      "source": [
        "album_ratings=[10.0,8.5,9.5,7.0,7.0,9.5,9.0,9.5]\n",
        "S=sum(album_ratings)\n",
        "S"
      ],
      "execution_count": null,
      "outputs": [
        {
          "output_type": "execute_result",
          "data": {
            "text/plain": [
              "70.0"
            ]
          },
          "metadata": {
            "tags": []
          },
          "execution_count": 27
        }
      ]
    },
    {
      "cell_type": "markdown",
      "metadata": {
        "id": "vvOv5FXxASzM"
      },
      "source": [
        "## 3. Function - Sort "
      ]
    },
    {
      "cell_type": "markdown",
      "metadata": {
        "id": "c2lQJ16mAaKv"
      },
      "source": [
        "We can also use the list method sort. Methods are similar to. functions. Let's use this as an example to illustrate the difference. The function sorted Returns a new sorted list or tuple."
      ]
    },
    {
      "cell_type": "code",
      "metadata": {
        "id": "1Z6SNcQyAWER",
        "outputId": "66d58066-4bfe-463c-9d52-b6b6c4f6003e",
        "colab": {
          "base_uri": "https://localhost:8080/"
        }
      },
      "source": [
        "album_ratings=[10.0,8.5,9.5,7.0,7.0,9.5,9.0,9.5]\n",
        "sorted_album_ratings=sorted(album_ratings)\n",
        "sorted_album_ratings"
      ],
      "execution_count": null,
      "outputs": [
        {
          "output_type": "execute_result",
          "data": {
            "text/plain": [
              "[7.0, 7.0, 8.5, 9.0, 9.5, 9.5, 9.5, 10.0]"
            ]
          },
          "metadata": {
            "tags": []
          },
          "execution_count": 28
        }
      ]
    },
    {
      "cell_type": "markdown",
      "metadata": {
        "id": "zIt4TRV0Ey99"
      },
      "source": [
        "## 4. Function  - Mult"
      ]
    },
    {
      "cell_type": "markdown",
      "metadata": {
        "id": "91Zz_Wf0E7iB"
      },
      "source": [
        "The function mult multiplies two numbers; in other words, it finds their product.\n",
        "\n",
        "If we pass the integers 2 and 3, the result is a new integer.\n",
        "\n",
        "If we pass the integer 10 and the float 3.14, the result is a float 31.4.\n",
        "\n",
        "If we pass in the integer two and the string “Michael Jackson,” the string Michael Jackson is repeated two\n",
        "times.\n",
        "\n",
        "This is because the multiplication symbol can also mean repeat a sequence. "
      ]
    },
    {
      "cell_type": "markdown",
      "metadata": {
        "id": "U_0qnDY84x7W"
      },
      "source": [
        "#### Example"
      ]
    },
    {
      "cell_type": "code",
      "metadata": {
        "id": "_dmRfW2CE2ZV"
      },
      "source": [
        "def Mult(a,b):\n",
        "  c=a*b\n",
        "  return(c)"
      ],
      "execution_count": null,
      "outputs": []
    },
    {
      "cell_type": "code",
      "metadata": {
        "id": "77Pqb3PM5UOY",
        "outputId": "290d9ee8-90cd-4528-ffd5-086eb081921f",
        "colab": {
          "base_uri": "https://localhost:8080/",
          "height": 34
        }
      },
      "source": [
        "Mult(2,2)"
      ],
      "execution_count": null,
      "outputs": [
        {
          "output_type": "execute_result",
          "data": {
            "text/plain": [
              "4"
            ]
          },
          "metadata": {
            "tags": []
          },
          "execution_count": 2
        }
      ]
    },
    {
      "cell_type": "code",
      "metadata": {
        "id": "DycE46AM5a85",
        "outputId": "75d3139d-84d8-4162-b57c-02861993abc3",
        "colab": {
          "base_uri": "https://localhost:8080/",
          "height": 34
        }
      },
      "source": [
        "Mult(10,3.14)"
      ],
      "execution_count": null,
      "outputs": [
        {
          "output_type": "execute_result",
          "data": {
            "text/plain": [
              "31.400000000000002"
            ]
          },
          "metadata": {
            "tags": []
          },
          "execution_count": 4
        }
      ]
    },
    {
      "cell_type": "code",
      "metadata": {
        "id": "ilWYieL-5fGA",
        "outputId": "ab2b32db-e0e7-4579-d6d7-9289e7030599",
        "colab": {
          "base_uri": "https://localhost:8080/",
          "height": 35
        }
      },
      "source": [
        "Mult(2,\"Alexander\")"
      ],
      "execution_count": null,
      "outputs": [
        {
          "output_type": "execute_result",
          "data": {
            "application/vnd.google.colaboratory.intrinsic+json": {
              "type": "string"
            },
            "text/plain": [
              "'AlexanderAlexander'"
            ]
          },
          "metadata": {
            "tags": []
          },
          "execution_count": 5
        }
      ]
    },
    {
      "cell_type": "markdown",
      "metadata": {
        "id": "wJRv2DNQAGjQ"
      },
      "source": [
        "## 5. Function - Return"
      ]
    },
    {
      "cell_type": "markdown",
      "metadata": {
        "id": "HT7QmwhTLE8w"
      },
      "source": [
        "In many cases a function does not have a return statement. In these cases, Python will return the special\n",
        "“None” object.\n",
        "\n",
        "Practically speaking, if your function has no return statement, you can treat it as if the function returns nothing\n",
        "at all.\n",
        "\n",
        "Python doesn’t allow a function to have an empty body, so we can use the keyword pass, which doesn’t do\n",
        "anything, but satisfies the requirement of a non-empty body."
      ]
    },
    {
      "cell_type": "markdown",
      "metadata": {
        "id": "CgqXv63lUXQT"
      },
      "source": [
        "#### Example"
      ]
    },
    {
      "cell_type": "code",
      "metadata": {
        "id": "vBWkoonVLO-S",
        "outputId": "f510fa63-cc74-42aa-abfd-2e6d9351b272",
        "colab": {
          "base_uri": "https://localhost:8080/",
          "height": 34
        }
      },
      "source": [
        "def NoWork():\n",
        "  pass\n",
        "print (NoWork())"
      ],
      "execution_count": null,
      "outputs": [
        {
          "output_type": "stream",
          "text": [
            "None\n"
          ],
          "name": "stdout"
        }
      ]
    },
    {
      "cell_type": "markdown",
      "metadata": {
        "id": "au_pvSXSUeFk"
      },
      "source": [
        "Usually, functions perform more than one task. This function prints a statement then returns a value."
      ]
    },
    {
      "cell_type": "code",
      "metadata": {
        "id": "yGh5yuhKLc0I",
        "outputId": "26177913-dd6a-44b8-b184-c7c44b97acac",
        "colab": {
          "base_uri": "https://localhost:8080/",
          "height": 34
        }
      },
      "source": [
        "clear a  "
      ],
      "execution_count": null,
      "outputs": [
        {
          "output_type": "stream",
          "text": [
            "\u001b[H\u001b[2J"
          ],
          "name": "stdout"
        }
      ]
    },
    {
      "cell_type": "code",
      "metadata": {
        "id": "_Ho3l0y8UwZ_"
      },
      "source": [
        "a=2\n",
        "def add1(a):\n",
        "  b=a+1;\n",
        "  print(a,\"plus 1 equal\",b)\n",
        "  return b"
      ],
      "execution_count": null,
      "outputs": []
    },
    {
      "cell_type": "code",
      "metadata": {
        "id": "v9KYPUP6WCtZ"
      },
      "source": [
        ""
      ],
      "execution_count": null,
      "outputs": []
    }
  ]
}