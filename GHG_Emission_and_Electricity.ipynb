{
  "nbformat": 4,
  "nbformat_minor": 0,
  "metadata": {
    "colab": {
      "name": "Kelompok_5_GHG_Emission_and_Electricity.ipynb",
      "provenance": [],
      "toc_visible": true
    },
    "kernelspec": {
      "name": "python3",
      "display_name": "Python 3"
    }
  },
  "cells": [
    {
      "cell_type": "markdown",
      "metadata": {
        "id": "IlB7gC0ee4vg"
      },
      "source": [
        "# Business Understanding"
      ]
    },
    {
      "cell_type": "markdown",
      "metadata": {
        "id": "rROt3BpSe9gX"
      },
      "source": [
        "Climate Change (perubahan iklim) merupakan isu global yang sudah lama menjadi pekerjaan rumah bagi pemerintah dunia. Sejak pertengahan abad 20, emisi greenhouse gas atau gas rumah oleh aktivitas manusia menjadi penyebab utama perubahan iklim. Hal tersebut berarti juga tidak ada solusi sederhana untuk mengatasi perubahan iklim, untuk membuat progress dalam mengurangi GHG emisi, ada 2 area yang perlu diperhatikan yaitu energi dan makanan/agrukultur. Oleh karena itu, pada Challenge ke-3, penulis akan melakukan analisis terkait hubungan kenaikan temperatur bumi dengan tingkat emisi greenhouse gas, selanjutnya mencari sektor penyumbang emisi gas tertinggi. Tujuan bisnis dari pembahasan kelompok kami adalah mengajak, menghimpun dan memberikan saran kepada sektor tersebut untuk memulai kegiatan yang ramah lingkungan."
      ]
    },
    {
      "cell_type": "markdown",
      "metadata": {
        "id": "RVkz8Rk4pvnV"
      },
      "source": [
        "# Pre-Processing"
      ]
    },
    {
      "cell_type": "code",
      "metadata": {
        "id": "9m6mmir5prt1",
        "outputId": "78ddfd1d-efa8-4e1e-d9c0-b0527541f013",
        "colab": {
          "base_uri": "https://localhost:8080/",
          "height": 163
        }
      },
      "source": [
        "pip install pulp"
      ],
      "execution_count": 2,
      "outputs": [
        {
          "output_type": "stream",
          "text": [
            "Collecting pulp\n",
            "\u001b[?25l  Downloading https://files.pythonhosted.org/packages/89/0c/6d80f5f81a92d1733cc5ca180491b8a3cd5839e335627a0046c81b7d3d3d/PuLP-2.3.1-py3-none-any.whl (40.6MB)\n",
            "\u001b[K     |████████████████████████████████| 40.6MB 92kB/s \n",
            "\u001b[?25hCollecting amply>=0.1.2\n",
            "  Downloading https://files.pythonhosted.org/packages/f3/c5/dfa09dd2595a2ab2ab4e6fa7bebef9565812722e1980d04b0edce5032066/amply-0.1.4-py3-none-any.whl\n",
            "Requirement already satisfied: docutils>=0.3 in /usr/local/lib/python3.6/dist-packages (from amply>=0.1.2->pulp) (0.16)\n",
            "Requirement already satisfied: pyparsing in /usr/local/lib/python3.6/dist-packages (from amply>=0.1.2->pulp) (2.4.7)\n",
            "Installing collected packages: amply, pulp\n",
            "Successfully installed amply-0.1.4 pulp-2.3.1\n"
          ],
          "name": "stdout"
        }
      ]
    },
    {
      "cell_type": "code",
      "metadata": {
        "id": "CqbGkk0hqz9u",
        "outputId": "ea7eb059-d849-4465-dc82-55ece188e9f6",
        "colab": {
          "base_uri": "https://localhost:8080/",
          "height": 102
        }
      },
      "source": [
        "import numpy as np\n",
        "import pandas as pd\n",
        "import io\n",
        "from google.colab import files\n",
        "import matplotlib.pyplot as plt\n",
        "import seaborn as sns\n",
        "from pulp import *\n",
        "from tabulate import tabulate\n",
        "from plotly.offline import init_notebook_mode, iplot\n",
        "init_notebook_mode(connected=True)\n",
        "import plotly.graph_objs as go\n",
        "import os\n",
        "import plotly.figure_factory as ff\n",
        "from sklearn.cluster import KMeans\n",
        "from sklearn.datasets.samples_generator import make_blobs"
      ],
      "execution_count": 3,
      "outputs": [
        {
          "output_type": "display_data",
          "data": {
            "text/html": [
              "        <script type=\"text/javascript\">\n",
              "        window.PlotlyConfig = {MathJaxConfig: 'local'};\n",
              "        if (window.MathJax) {MathJax.Hub.Config({SVG: {font: \"STIX-Web\"}});}\n",
              "        if (typeof require !== 'undefined') {\n",
              "        require.undef(\"plotly\");\n",
              "        requirejs.config({\n",
              "            paths: {\n",
              "                'plotly': ['https://cdn.plot.ly/plotly-latest.min']\n",
              "            }\n",
              "        });\n",
              "        require(['plotly'], function(Plotly) {\n",
              "            window._Plotly = Plotly;\n",
              "        });\n",
              "        }\n",
              "        </script>\n",
              "        "
            ]
          },
          "metadata": {
            "tags": []
          }
        },
        {
          "output_type": "stream",
          "text": [
            "/usr/local/lib/python3.6/dist-packages/sklearn/utils/deprecation.py:144: FutureWarning:\n",
            "\n",
            "The sklearn.datasets.samples_generator module is  deprecated in version 0.22 and will be removed in version 0.24. The corresponding classes / functions should instead be imported from sklearn.datasets. Anything that cannot be imported from sklearn.datasets is now part of the private API.\n",
            "\n"
          ],
          "name": "stderr"
        }
      ]
    },
    {
      "cell_type": "code",
      "metadata": {
        "id": "1fHfsFLCrIo4",
        "outputId": "45eaaf2e-c0fb-4e6a-ee20-43029226f6cd",
        "colab": {
          "resources": {
            "http://localhost:8080/nbextensions/google.colab/files.js": {
              "data": "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",
              "ok": true,
              "headers": [
                [
                  "content-type",
                  "application/javascript"
                ]
              ],
              "status": 200,
              "status_text": ""
            }
          },
          "base_uri": "https://localhost:8080/",
          "height": 70
        }
      },
      "source": [
        "uploaded = files.upload()"
      ],
      "execution_count": 4,
      "outputs": [
        {
          "output_type": "display_data",
          "data": {
            "text/html": [
              "\n",
              "     <input type=\"file\" id=\"files-4b15f88d-9684-4131-803b-0836702b2e7f\" name=\"files[]\" multiple disabled\n",
              "        style=\"border:none\" />\n",
              "     <output id=\"result-4b15f88d-9684-4131-803b-0836702b2e7f\">\n",
              "      Upload widget is only available when the cell has been executed in the\n",
              "      current browser session. Please rerun this cell to enable.\n",
              "      </output>\n",
              "      <script src=\"/nbextensions/google.colab/files.js\"></script> "
            ],
            "text/plain": [
              "<IPython.core.display.HTML object>"
            ]
          },
          "metadata": {
            "tags": []
          }
        },
        {
          "output_type": "stream",
          "text": [
            "Saving ghg-emissions-by-sector.csv to ghg-emissions-by-sector.csv\n"
          ],
          "name": "stdout"
        }
      ]
    },
    {
      "cell_type": "markdown",
      "metadata": {
        "id": "snoTgKOHfINT"
      },
      "source": [
        "Menampilkan data yang digunakan"
      ]
    },
    {
      "cell_type": "code",
      "metadata": {
        "id": "DeQOp5gyrsi1",
        "outputId": "7f7745d0-deaa-45c8-bfce-2be8491ba41f",
        "colab": {
          "base_uri": "https://localhost:8080/",
          "height": 456
        }
      },
      "source": [
        "emisi =  pd.read_csv(io.BytesIO(uploaded['ghg-emissions-by-sector.csv']))\n",
        "emisi"
      ],
      "execution_count": 5,
      "outputs": [
        {
          "output_type": "execute_result",
          "data": {
            "text/html": [
              "<div>\n",
              "<style scoped>\n",
              "    .dataframe tbody tr th:only-of-type {\n",
              "        vertical-align: middle;\n",
              "    }\n",
              "\n",
              "    .dataframe tbody tr th {\n",
              "        vertical-align: top;\n",
              "    }\n",
              "\n",
              "    .dataframe thead th {\n",
              "        text-align: right;\n",
              "    }\n",
              "</style>\n",
              "<table border=\"1\" class=\"dataframe\">\n",
              "  <thead>\n",
              "    <tr style=\"text-align: right;\">\n",
              "      <th></th>\n",
              "      <th>Entity</th>\n",
              "      <th>Code</th>\n",
              "      <th>Year</th>\n",
              "      <th>Agriculture (GHG Emissions, CAIT)</th>\n",
              "      <th>Bunker Fuels (GHG Emissions, CAIT)</th>\n",
              "      <th>Industry (GHG Emissions, CAIT)</th>\n",
              "      <th>Land-Use Change and Forestry (GHG Emissions, CAIT)</th>\n",
              "      <th>Waste (GHG Emissions, CAIT)</th>\n",
              "      <th>Buildings (GHG Emissions, CAIT)</th>\n",
              "      <th>Electricity &amp; Heat (GHG Emissions, CAIT)</th>\n",
              "      <th>Fugitive from energy production (GHG Emissions, CAIT)</th>\n",
              "      <th>Manufacturing/Construction energy (GHG Emissions, CAIT)</th>\n",
              "      <th>Other Fuel Combustion (GHG Emissions, CAIT)</th>\n",
              "      <th>Transport (GHG Emissions, CAIT)</th>\n",
              "    </tr>\n",
              "  </thead>\n",
              "  <tbody>\n",
              "    <tr>\n",
              "      <th>0</th>\n",
              "      <td>Afghanistan</td>\n",
              "      <td>AFG</td>\n",
              "      <td>1990</td>\n",
              "      <td>8.09</td>\n",
              "      <td>NaN</td>\n",
              "      <td>0.05</td>\n",
              "      <td>0.00</td>\n",
              "      <td>1.23</td>\n",
              "      <td>NaN</td>\n",
              "      <td>NaN</td>\n",
              "      <td>0.61</td>\n",
              "      <td>NaN</td>\n",
              "      <td>2.63</td>\n",
              "      <td>NaN</td>\n",
              "    </tr>\n",
              "    <tr>\n",
              "      <th>1</th>\n",
              "      <td>Afghanistan</td>\n",
              "      <td>AFG</td>\n",
              "      <td>1991</td>\n",
              "      <td>8.41</td>\n",
              "      <td>NaN</td>\n",
              "      <td>0.05</td>\n",
              "      <td>0.00</td>\n",
              "      <td>1.32</td>\n",
              "      <td>NaN</td>\n",
              "      <td>NaN</td>\n",
              "      <td>0.52</td>\n",
              "      <td>NaN</td>\n",
              "      <td>2.40</td>\n",
              "      <td>NaN</td>\n",
              "    </tr>\n",
              "    <tr>\n",
              "      <th>2</th>\n",
              "      <td>Afghanistan</td>\n",
              "      <td>AFG</td>\n",
              "      <td>1992</td>\n",
              "      <td>8.42</td>\n",
              "      <td>NaN</td>\n",
              "      <td>0.06</td>\n",
              "      <td>0.00</td>\n",
              "      <td>1.40</td>\n",
              "      <td>NaN</td>\n",
              "      <td>NaN</td>\n",
              "      <td>0.22</td>\n",
              "      <td>NaN</td>\n",
              "      <td>2.18</td>\n",
              "      <td>NaN</td>\n",
              "    </tr>\n",
              "    <tr>\n",
              "      <th>3</th>\n",
              "      <td>Afghanistan</td>\n",
              "      <td>AFG</td>\n",
              "      <td>1993</td>\n",
              "      <td>8.50</td>\n",
              "      <td>NaN</td>\n",
              "      <td>0.06</td>\n",
              "      <td>0.00</td>\n",
              "      <td>1.49</td>\n",
              "      <td>NaN</td>\n",
              "      <td>NaN</td>\n",
              "      <td>0.16</td>\n",
              "      <td>NaN</td>\n",
              "      <td>1.95</td>\n",
              "      <td>NaN</td>\n",
              "    </tr>\n",
              "    <tr>\n",
              "      <th>4</th>\n",
              "      <td>Afghanistan</td>\n",
              "      <td>AFG</td>\n",
              "      <td>1994</td>\n",
              "      <td>8.54</td>\n",
              "      <td>NaN</td>\n",
              "      <td>0.07</td>\n",
              "      <td>0.00</td>\n",
              "      <td>1.58</td>\n",
              "      <td>NaN</td>\n",
              "      <td>NaN</td>\n",
              "      <td>0.12</td>\n",
              "      <td>NaN</td>\n",
              "      <td>1.72</td>\n",
              "      <td>NaN</td>\n",
              "    </tr>\n",
              "    <tr>\n",
              "      <th>...</th>\n",
              "      <td>...</td>\n",
              "      <td>...</td>\n",
              "      <td>...</td>\n",
              "      <td>...</td>\n",
              "      <td>...</td>\n",
              "      <td>...</td>\n",
              "      <td>...</td>\n",
              "      <td>...</td>\n",
              "      <td>...</td>\n",
              "      <td>...</td>\n",
              "      <td>...</td>\n",
              "      <td>...</td>\n",
              "      <td>...</td>\n",
              "      <td>...</td>\n",
              "    </tr>\n",
              "    <tr>\n",
              "      <th>5260</th>\n",
              "      <td>Zimbabwe</td>\n",
              "      <td>ZWE</td>\n",
              "      <td>2012</td>\n",
              "      <td>13.21</td>\n",
              "      <td>0.0</td>\n",
              "      <td>1.48</td>\n",
              "      <td>36.15</td>\n",
              "      <td>2.29</td>\n",
              "      <td>0.2</td>\n",
              "      <td>5.6</td>\n",
              "      <td>0.49</td>\n",
              "      <td>1.9</td>\n",
              "      <td>3.61</td>\n",
              "      <td>2.6</td>\n",
              "    </tr>\n",
              "    <tr>\n",
              "      <th>5261</th>\n",
              "      <td>Zimbabwe</td>\n",
              "      <td>ZWE</td>\n",
              "      <td>2013</td>\n",
              "      <td>12.57</td>\n",
              "      <td>0.0</td>\n",
              "      <td>1.43</td>\n",
              "      <td>36.11</td>\n",
              "      <td>2.34</td>\n",
              "      <td>0.1</td>\n",
              "      <td>6.8</td>\n",
              "      <td>0.55</td>\n",
              "      <td>1.0</td>\n",
              "      <td>3.65</td>\n",
              "      <td>2.9</td>\n",
              "    </tr>\n",
              "    <tr>\n",
              "      <th>5262</th>\n",
              "      <td>Zimbabwe</td>\n",
              "      <td>ZWE</td>\n",
              "      <td>2014</td>\n",
              "      <td>10.97</td>\n",
              "      <td>0.0</td>\n",
              "      <td>1.53</td>\n",
              "      <td>36.11</td>\n",
              "      <td>2.38</td>\n",
              "      <td>0.2</td>\n",
              "      <td>6.8</td>\n",
              "      <td>0.60</td>\n",
              "      <td>1.1</td>\n",
              "      <td>3.90</td>\n",
              "      <td>2.6</td>\n",
              "    </tr>\n",
              "    <tr>\n",
              "      <th>5263</th>\n",
              "      <td>Zimbabwe</td>\n",
              "      <td>ZWE</td>\n",
              "      <td>2015</td>\n",
              "      <td>11.52</td>\n",
              "      <td>0.1</td>\n",
              "      <td>1.58</td>\n",
              "      <td>36.25</td>\n",
              "      <td>2.43</td>\n",
              "      <td>0.2</td>\n",
              "      <td>7.2</td>\n",
              "      <td>0.66</td>\n",
              "      <td>1.1</td>\n",
              "      <td>3.95</td>\n",
              "      <td>2.5</td>\n",
              "    </tr>\n",
              "    <tr>\n",
              "      <th>5264</th>\n",
              "      <td>Zimbabwe</td>\n",
              "      <td>ZWE</td>\n",
              "      <td>2016</td>\n",
              "      <td>11.44</td>\n",
              "      <td>0.1</td>\n",
              "      <td>1.65</td>\n",
              "      <td>36.13</td>\n",
              "      <td>2.48</td>\n",
              "      <td>0.2</td>\n",
              "      <td>6.2</td>\n",
              "      <td>0.68</td>\n",
              "      <td>1.1</td>\n",
              "      <td>4.00</td>\n",
              "      <td>2.1</td>\n",
              "    </tr>\n",
              "  </tbody>\n",
              "</table>\n",
              "<p>5265 rows × 14 columns</p>\n",
              "</div>"
            ],
            "text/plain": [
              "           Entity  ... Transport (GHG Emissions, CAIT)\n",
              "0     Afghanistan  ...                             NaN\n",
              "1     Afghanistan  ...                             NaN\n",
              "2     Afghanistan  ...                             NaN\n",
              "3     Afghanistan  ...                             NaN\n",
              "4     Afghanistan  ...                             NaN\n",
              "...           ...  ...                             ...\n",
              "5260     Zimbabwe  ...                             2.6\n",
              "5261     Zimbabwe  ...                             2.9\n",
              "5262     Zimbabwe  ...                             2.6\n",
              "5263     Zimbabwe  ...                             2.5\n",
              "5264     Zimbabwe  ...                             2.1\n",
              "\n",
              "[5265 rows x 14 columns]"
            ]
          },
          "metadata": {
            "tags": []
          },
          "execution_count": 5
        }
      ]
    },
    {
      "cell_type": "markdown",
      "metadata": {
        "id": "HesqBMUXfNcb"
      },
      "source": [
        "Menghilangkan kolom yang tidak digunakan yaitu kolom Code, dan mereduce data yang digunakan untuk tahun 2000-2016"
      ]
    },
    {
      "cell_type": "code",
      "metadata": {
        "id": "m-IBpzi_dZc-"
      },
      "source": [
        "thn= [i for i in range(1990,2000)]\n",
        "for i, val in enumerate(emisi['Year'].values):\n",
        "    if val in thn:\n",
        "        emisi.drop(index=i, axis=0, inplace=True,\n",
        "    errors='ignore')\n",
        "    else:\n",
        "            continue"
      ],
      "execution_count": 6,
      "outputs": []
    },
    {
      "cell_type": "code",
      "metadata": {
        "id": "YWI9bDyEdd69",
        "outputId": "b74df172-2f46-4411-8716-d1d8d2e5efa4",
        "colab": {
          "base_uri": "https://localhost:8080/",
          "height": 456
        }
      },
      "source": [
        "emisi = emisi.drop('Code',axis=1)\n",
        "emisi"
      ],
      "execution_count": 7,
      "outputs": [
        {
          "output_type": "execute_result",
          "data": {
            "text/html": [
              "<div>\n",
              "<style scoped>\n",
              "    .dataframe tbody tr th:only-of-type {\n",
              "        vertical-align: middle;\n",
              "    }\n",
              "\n",
              "    .dataframe tbody tr th {\n",
              "        vertical-align: top;\n",
              "    }\n",
              "\n",
              "    .dataframe thead th {\n",
              "        text-align: right;\n",
              "    }\n",
              "</style>\n",
              "<table border=\"1\" class=\"dataframe\">\n",
              "  <thead>\n",
              "    <tr style=\"text-align: right;\">\n",
              "      <th></th>\n",
              "      <th>Entity</th>\n",
              "      <th>Year</th>\n",
              "      <th>Agriculture (GHG Emissions, CAIT)</th>\n",
              "      <th>Bunker Fuels (GHG Emissions, CAIT)</th>\n",
              "      <th>Industry (GHG Emissions, CAIT)</th>\n",
              "      <th>Land-Use Change and Forestry (GHG Emissions, CAIT)</th>\n",
              "      <th>Waste (GHG Emissions, CAIT)</th>\n",
              "      <th>Buildings (GHG Emissions, CAIT)</th>\n",
              "      <th>Electricity &amp; Heat (GHG Emissions, CAIT)</th>\n",
              "      <th>Fugitive from energy production (GHG Emissions, CAIT)</th>\n",
              "      <th>Manufacturing/Construction energy (GHG Emissions, CAIT)</th>\n",
              "      <th>Other Fuel Combustion (GHG Emissions, CAIT)</th>\n",
              "      <th>Transport (GHG Emissions, CAIT)</th>\n",
              "    </tr>\n",
              "  </thead>\n",
              "  <tbody>\n",
              "    <tr>\n",
              "      <th>10</th>\n",
              "      <td>Afghanistan</td>\n",
              "      <td>2000</td>\n",
              "      <td>10.99</td>\n",
              "      <td>NaN</td>\n",
              "      <td>0.11</td>\n",
              "      <td>0.00</td>\n",
              "      <td>1.96</td>\n",
              "      <td>NaN</td>\n",
              "      <td>NaN</td>\n",
              "      <td>0.09</td>\n",
              "      <td>NaN</td>\n",
              "      <td>1.18</td>\n",
              "      <td>NaN</td>\n",
              "    </tr>\n",
              "    <tr>\n",
              "      <th>11</th>\n",
              "      <td>Afghanistan</td>\n",
              "      <td>2001</td>\n",
              "      <td>9.28</td>\n",
              "      <td>NaN</td>\n",
              "      <td>0.12</td>\n",
              "      <td>0.00</td>\n",
              "      <td>2.05</td>\n",
              "      <td>NaN</td>\n",
              "      <td>NaN</td>\n",
              "      <td>0.08</td>\n",
              "      <td>NaN</td>\n",
              "      <td>1.16</td>\n",
              "      <td>NaN</td>\n",
              "    </tr>\n",
              "    <tr>\n",
              "      <th>12</th>\n",
              "      <td>Afghanistan</td>\n",
              "      <td>2002</td>\n",
              "      <td>11.57</td>\n",
              "      <td>NaN</td>\n",
              "      <td>0.12</td>\n",
              "      <td>0.00</td>\n",
              "      <td>2.15</td>\n",
              "      <td>NaN</td>\n",
              "      <td>NaN</td>\n",
              "      <td>0.08</td>\n",
              "      <td>NaN</td>\n",
              "      <td>1.14</td>\n",
              "      <td>NaN</td>\n",
              "    </tr>\n",
              "    <tr>\n",
              "      <th>13</th>\n",
              "      <td>Afghanistan</td>\n",
              "      <td>2003</td>\n",
              "      <td>12.05</td>\n",
              "      <td>NaN</td>\n",
              "      <td>0.14</td>\n",
              "      <td>0.00</td>\n",
              "      <td>2.24</td>\n",
              "      <td>NaN</td>\n",
              "      <td>NaN</td>\n",
              "      <td>0.07</td>\n",
              "      <td>NaN</td>\n",
              "      <td>1.12</td>\n",
              "      <td>NaN</td>\n",
              "    </tr>\n",
              "    <tr>\n",
              "      <th>14</th>\n",
              "      <td>Afghanistan</td>\n",
              "      <td>2004</td>\n",
              "      <td>11.79</td>\n",
              "      <td>NaN</td>\n",
              "      <td>0.14</td>\n",
              "      <td>0.00</td>\n",
              "      <td>2.33</td>\n",
              "      <td>NaN</td>\n",
              "      <td>NaN</td>\n",
              "      <td>0.06</td>\n",
              "      <td>NaN</td>\n",
              "      <td>1.11</td>\n",
              "      <td>NaN</td>\n",
              "    </tr>\n",
              "    <tr>\n",
              "      <th>...</th>\n",
              "      <td>...</td>\n",
              "      <td>...</td>\n",
              "      <td>...</td>\n",
              "      <td>...</td>\n",
              "      <td>...</td>\n",
              "      <td>...</td>\n",
              "      <td>...</td>\n",
              "      <td>...</td>\n",
              "      <td>...</td>\n",
              "      <td>...</td>\n",
              "      <td>...</td>\n",
              "      <td>...</td>\n",
              "      <td>...</td>\n",
              "    </tr>\n",
              "    <tr>\n",
              "      <th>5260</th>\n",
              "      <td>Zimbabwe</td>\n",
              "      <td>2012</td>\n",
              "      <td>13.21</td>\n",
              "      <td>0.0</td>\n",
              "      <td>1.48</td>\n",
              "      <td>36.15</td>\n",
              "      <td>2.29</td>\n",
              "      <td>0.2</td>\n",
              "      <td>5.6</td>\n",
              "      <td>0.49</td>\n",
              "      <td>1.9</td>\n",
              "      <td>3.61</td>\n",
              "      <td>2.6</td>\n",
              "    </tr>\n",
              "    <tr>\n",
              "      <th>5261</th>\n",
              "      <td>Zimbabwe</td>\n",
              "      <td>2013</td>\n",
              "      <td>12.57</td>\n",
              "      <td>0.0</td>\n",
              "      <td>1.43</td>\n",
              "      <td>36.11</td>\n",
              "      <td>2.34</td>\n",
              "      <td>0.1</td>\n",
              "      <td>6.8</td>\n",
              "      <td>0.55</td>\n",
              "      <td>1.0</td>\n",
              "      <td>3.65</td>\n",
              "      <td>2.9</td>\n",
              "    </tr>\n",
              "    <tr>\n",
              "      <th>5262</th>\n",
              "      <td>Zimbabwe</td>\n",
              "      <td>2014</td>\n",
              "      <td>10.97</td>\n",
              "      <td>0.0</td>\n",
              "      <td>1.53</td>\n",
              "      <td>36.11</td>\n",
              "      <td>2.38</td>\n",
              "      <td>0.2</td>\n",
              "      <td>6.8</td>\n",
              "      <td>0.60</td>\n",
              "      <td>1.1</td>\n",
              "      <td>3.90</td>\n",
              "      <td>2.6</td>\n",
              "    </tr>\n",
              "    <tr>\n",
              "      <th>5263</th>\n",
              "      <td>Zimbabwe</td>\n",
              "      <td>2015</td>\n",
              "      <td>11.52</td>\n",
              "      <td>0.1</td>\n",
              "      <td>1.58</td>\n",
              "      <td>36.25</td>\n",
              "      <td>2.43</td>\n",
              "      <td>0.2</td>\n",
              "      <td>7.2</td>\n",
              "      <td>0.66</td>\n",
              "      <td>1.1</td>\n",
              "      <td>3.95</td>\n",
              "      <td>2.5</td>\n",
              "    </tr>\n",
              "    <tr>\n",
              "      <th>5264</th>\n",
              "      <td>Zimbabwe</td>\n",
              "      <td>2016</td>\n",
              "      <td>11.44</td>\n",
              "      <td>0.1</td>\n",
              "      <td>1.65</td>\n",
              "      <td>36.13</td>\n",
              "      <td>2.48</td>\n",
              "      <td>0.2</td>\n",
              "      <td>6.2</td>\n",
              "      <td>0.68</td>\n",
              "      <td>1.1</td>\n",
              "      <td>4.00</td>\n",
              "      <td>2.1</td>\n",
              "    </tr>\n",
              "  </tbody>\n",
              "</table>\n",
              "<p>3315 rows × 13 columns</p>\n",
              "</div>"
            ],
            "text/plain": [
              "           Entity  ...  Transport (GHG Emissions, CAIT)\n",
              "10    Afghanistan  ...                              NaN\n",
              "11    Afghanistan  ...                              NaN\n",
              "12    Afghanistan  ...                              NaN\n",
              "13    Afghanistan  ...                              NaN\n",
              "14    Afghanistan  ...                              NaN\n",
              "...           ...  ...                              ...\n",
              "5260     Zimbabwe  ...                              2.6\n",
              "5261     Zimbabwe  ...                              2.9\n",
              "5262     Zimbabwe  ...                              2.6\n",
              "5263     Zimbabwe  ...                              2.5\n",
              "5264     Zimbabwe  ...                              2.1\n",
              "\n",
              "[3315 rows x 13 columns]"
            ]
          },
          "metadata": {
            "tags": []
          },
          "execution_count": 7
        }
      ]
    },
    {
      "cell_type": "markdown",
      "metadata": {
        "id": "G1x_0jISfcEp"
      },
      "source": [
        "Perhitungan statistika sederhana"
      ]
    },
    {
      "cell_type": "code",
      "metadata": {
        "id": "9jQV6tMIdmhW",
        "outputId": "6b53a4fc-1b5d-4d3e-8d5f-66b44f6674a9",
        "colab": {
          "base_uri": "https://localhost:8080/",
          "height": 212
        }
      },
      "source": [
        "# check for numbers\n",
        "print(emisi.describe())\n",
        "print(\"--------------------------------------\")"
      ],
      "execution_count": 8,
      "outputs": [
        {
          "output_type": "stream",
          "text": [
            "              Year  ...  Transport (GHG Emissions, CAIT)\n",
            "count  3315.000000  ...                      2363.000000\n",
            "mean   2008.000000  ...                        95.038299\n",
            "std       4.899719  ...                       594.549770\n",
            "min    2000.000000  ...                         0.000000\n",
            "25%    2004.000000  ...                         2.200000\n",
            "50%    2008.000000  ...                         6.700000\n",
            "75%    2012.000000  ...                        25.900000\n",
            "max    2016.000000  ...                      7866.000000\n",
            "\n",
            "[8 rows x 12 columns]\n",
            "--------------------------------------\n"
          ],
          "name": "stdout"
        }
      ]
    },
    {
      "cell_type": "markdown",
      "metadata": {
        "id": "1ZdyJaHqff8V"
      },
      "source": [
        "Melakukan pengecekan missing value"
      ]
    },
    {
      "cell_type": "code",
      "metadata": {
        "id": "_Bg7sTgJdtLQ",
        "outputId": "eef6218d-c557-492e-9670-382a93bd6e12",
        "colab": {
          "base_uri": "https://localhost:8080/",
          "height": 261
        }
      },
      "source": [
        "# Check for Nulls\n",
        "print(emisi.isnull().any())\n",
        "print(\"--------------------------------------\")"
      ],
      "execution_count": 9,
      "outputs": [
        {
          "output_type": "stream",
          "text": [
            "Entity                                                     False\n",
            "Year                                                       False\n",
            "Agriculture (GHG Emissions, CAIT)                          False\n",
            "Bunker Fuels (GHG Emissions, CAIT)                          True\n",
            "Industry (GHG Emissions, CAIT)                              True\n",
            "Land-Use Change and Forestry (GHG Emissions, CAIT)         False\n",
            "Waste (GHG Emissions, CAIT)                                 True\n",
            "Buildings (GHG Emissions, CAIT)                             True\n",
            "Electricity & Heat (GHG Emissions, CAIT)                    True\n",
            "Fugitive from energy production (GHG Emissions, CAIT)       True\n",
            "Manufacturing/Construction energy (GHG Emissions, CAIT)     True\n",
            "Other Fuel Combustion (GHG Emissions, CAIT)                 True\n",
            "Transport (GHG Emissions, CAIT)                             True\n",
            "dtype: bool\n",
            "--------------------------------------\n"
          ],
          "name": "stdout"
        }
      ]
    },
    {
      "cell_type": "markdown",
      "metadata": {
        "id": "_sEoF3aHfkFq"
      },
      "source": [
        "Melakukan pergantian nilai missing value dengan nilai nol, dan pergantian nama kolom"
      ]
    },
    {
      "cell_type": "code",
      "metadata": {
        "id": "dZv34yYdd3xr",
        "outputId": "bb902f06-d7ee-4fd5-e248-0df926feebda",
        "colab": {
          "base_uri": "https://localhost:8080/",
          "height": 407
        }
      },
      "source": [
        "emisi['Bunker Fuels (GHG Emissions, CAIT)'].replace(np.nan,0,inplace=True)\n",
        "emisi['Industry (GHG Emissions, CAIT)'].replace(np.nan,0,inplace=True)\n",
        "emisi['Waste (GHG Emissions, CAIT)'].replace(np.nan,0,inplace=True)\n",
        "emisi['Buildings (GHG Emissions, CAIT)'].replace(np.nan,0,inplace=True)\n",
        "emisi['Electricity & Heat (GHG Emissions, CAIT)'].replace(np.nan,0,inplace=True)\n",
        "emisi['Fugitive from energy production (GHG Emissions, CAIT)'].replace(np.nan,0,inplace=True)\n",
        "emisi['Manufacturing/Construction energy (GHG Emissions, CAIT)'].replace(np.nan,0,inplace=True)\n",
        "emisi['Other Fuel Combustion (GHG Emissions, CAIT)'].replace(np.nan,0,inplace=True)\n",
        "emisi['Transport (GHG Emissions, CAIT)'].replace(np.nan,0,inplace=True)\n",
        "\n",
        "emisi.rename(columns={\"Agriculture (GHG Emissions, CAIT)\":\"Agriculture\",\"Bunker Fuels (GHG Emissions, CAIT)\":\"Bunker Fuels\",\"Industry (GHG Emissions, CAIT)\":\"Industry\",\"Land-Use Change and Forestry (GHG Emissions, CAIT)\":\"Land-Use Change and Forestry\",\"Waste (GHG Emissions, CAIT)\":\"Waste\",\"Buildings (GHG Emissions, CAIT)\":\"Buildings\",\"Electricity & Heat (GHG Emissions, CAIT)\":\"Electricity & Heat\",\"Fugitive from energy production (GHG Emissions, CAIT)\":\"Fugitive from energy production\",\"Manufacturing/Construction energy (GHG Emissions, CAIT)\":\"Manufacturing/Construction energy\",\"Other Fuel Combustion (GHG Emissions, CAIT)\":\"Other Fuel Combustion\",\"Transport (GHG Emissions, CAIT)\":\"Transport\"},inplace=True)\n",
        "emisi"
      ],
      "execution_count": 10,
      "outputs": [
        {
          "output_type": "execute_result",
          "data": {
            "text/html": [
              "<div>\n",
              "<style scoped>\n",
              "    .dataframe tbody tr th:only-of-type {\n",
              "        vertical-align: middle;\n",
              "    }\n",
              "\n",
              "    .dataframe tbody tr th {\n",
              "        vertical-align: top;\n",
              "    }\n",
              "\n",
              "    .dataframe thead th {\n",
              "        text-align: right;\n",
              "    }\n",
              "</style>\n",
              "<table border=\"1\" class=\"dataframe\">\n",
              "  <thead>\n",
              "    <tr style=\"text-align: right;\">\n",
              "      <th></th>\n",
              "      <th>Entity</th>\n",
              "      <th>Year</th>\n",
              "      <th>Agriculture</th>\n",
              "      <th>Bunker Fuels</th>\n",
              "      <th>Industry</th>\n",
              "      <th>Land-Use Change and Forestry</th>\n",
              "      <th>Waste</th>\n",
              "      <th>Buildings</th>\n",
              "      <th>Electricity &amp; Heat</th>\n",
              "      <th>Fugitive from energy production</th>\n",
              "      <th>Manufacturing/Construction energy</th>\n",
              "      <th>Other Fuel Combustion</th>\n",
              "      <th>Transport</th>\n",
              "    </tr>\n",
              "  </thead>\n",
              "  <tbody>\n",
              "    <tr>\n",
              "      <th>10</th>\n",
              "      <td>Afghanistan</td>\n",
              "      <td>2000</td>\n",
              "      <td>10.99</td>\n",
              "      <td>0.0</td>\n",
              "      <td>0.11</td>\n",
              "      <td>0.00</td>\n",
              "      <td>1.96</td>\n",
              "      <td>0.0</td>\n",
              "      <td>0.0</td>\n",
              "      <td>0.09</td>\n",
              "      <td>0.0</td>\n",
              "      <td>1.18</td>\n",
              "      <td>0.0</td>\n",
              "    </tr>\n",
              "    <tr>\n",
              "      <th>11</th>\n",
              "      <td>Afghanistan</td>\n",
              "      <td>2001</td>\n",
              "      <td>9.28</td>\n",
              "      <td>0.0</td>\n",
              "      <td>0.12</td>\n",
              "      <td>0.00</td>\n",
              "      <td>2.05</td>\n",
              "      <td>0.0</td>\n",
              "      <td>0.0</td>\n",
              "      <td>0.08</td>\n",
              "      <td>0.0</td>\n",
              "      <td>1.16</td>\n",
              "      <td>0.0</td>\n",
              "    </tr>\n",
              "    <tr>\n",
              "      <th>12</th>\n",
              "      <td>Afghanistan</td>\n",
              "      <td>2002</td>\n",
              "      <td>11.57</td>\n",
              "      <td>0.0</td>\n",
              "      <td>0.12</td>\n",
              "      <td>0.00</td>\n",
              "      <td>2.15</td>\n",
              "      <td>0.0</td>\n",
              "      <td>0.0</td>\n",
              "      <td>0.08</td>\n",
              "      <td>0.0</td>\n",
              "      <td>1.14</td>\n",
              "      <td>0.0</td>\n",
              "    </tr>\n",
              "    <tr>\n",
              "      <th>13</th>\n",
              "      <td>Afghanistan</td>\n",
              "      <td>2003</td>\n",
              "      <td>12.05</td>\n",
              "      <td>0.0</td>\n",
              "      <td>0.14</td>\n",
              "      <td>0.00</td>\n",
              "      <td>2.24</td>\n",
              "      <td>0.0</td>\n",
              "      <td>0.0</td>\n",
              "      <td>0.07</td>\n",
              "      <td>0.0</td>\n",
              "      <td>1.12</td>\n",
              "      <td>0.0</td>\n",
              "    </tr>\n",
              "    <tr>\n",
              "      <th>14</th>\n",
              "      <td>Afghanistan</td>\n",
              "      <td>2004</td>\n",
              "      <td>11.79</td>\n",
              "      <td>0.0</td>\n",
              "      <td>0.14</td>\n",
              "      <td>0.00</td>\n",
              "      <td>2.33</td>\n",
              "      <td>0.0</td>\n",
              "      <td>0.0</td>\n",
              "      <td>0.06</td>\n",
              "      <td>0.0</td>\n",
              "      <td>1.11</td>\n",
              "      <td>0.0</td>\n",
              "    </tr>\n",
              "    <tr>\n",
              "      <th>...</th>\n",
              "      <td>...</td>\n",
              "      <td>...</td>\n",
              "      <td>...</td>\n",
              "      <td>...</td>\n",
              "      <td>...</td>\n",
              "      <td>...</td>\n",
              "      <td>...</td>\n",
              "      <td>...</td>\n",
              "      <td>...</td>\n",
              "      <td>...</td>\n",
              "      <td>...</td>\n",
              "      <td>...</td>\n",
              "      <td>...</td>\n",
              "    </tr>\n",
              "    <tr>\n",
              "      <th>5260</th>\n",
              "      <td>Zimbabwe</td>\n",
              "      <td>2012</td>\n",
              "      <td>13.21</td>\n",
              "      <td>0.0</td>\n",
              "      <td>1.48</td>\n",
              "      <td>36.15</td>\n",
              "      <td>2.29</td>\n",
              "      <td>0.2</td>\n",
              "      <td>5.6</td>\n",
              "      <td>0.49</td>\n",
              "      <td>1.9</td>\n",
              "      <td>3.61</td>\n",
              "      <td>2.6</td>\n",
              "    </tr>\n",
              "    <tr>\n",
              "      <th>5261</th>\n",
              "      <td>Zimbabwe</td>\n",
              "      <td>2013</td>\n",
              "      <td>12.57</td>\n",
              "      <td>0.0</td>\n",
              "      <td>1.43</td>\n",
              "      <td>36.11</td>\n",
              "      <td>2.34</td>\n",
              "      <td>0.1</td>\n",
              "      <td>6.8</td>\n",
              "      <td>0.55</td>\n",
              "      <td>1.0</td>\n",
              "      <td>3.65</td>\n",
              "      <td>2.9</td>\n",
              "    </tr>\n",
              "    <tr>\n",
              "      <th>5262</th>\n",
              "      <td>Zimbabwe</td>\n",
              "      <td>2014</td>\n",
              "      <td>10.97</td>\n",
              "      <td>0.0</td>\n",
              "      <td>1.53</td>\n",
              "      <td>36.11</td>\n",
              "      <td>2.38</td>\n",
              "      <td>0.2</td>\n",
              "      <td>6.8</td>\n",
              "      <td>0.60</td>\n",
              "      <td>1.1</td>\n",
              "      <td>3.90</td>\n",
              "      <td>2.6</td>\n",
              "    </tr>\n",
              "    <tr>\n",
              "      <th>5263</th>\n",
              "      <td>Zimbabwe</td>\n",
              "      <td>2015</td>\n",
              "      <td>11.52</td>\n",
              "      <td>0.1</td>\n",
              "      <td>1.58</td>\n",
              "      <td>36.25</td>\n",
              "      <td>2.43</td>\n",
              "      <td>0.2</td>\n",
              "      <td>7.2</td>\n",
              "      <td>0.66</td>\n",
              "      <td>1.1</td>\n",
              "      <td>3.95</td>\n",
              "      <td>2.5</td>\n",
              "    </tr>\n",
              "    <tr>\n",
              "      <th>5264</th>\n",
              "      <td>Zimbabwe</td>\n",
              "      <td>2016</td>\n",
              "      <td>11.44</td>\n",
              "      <td>0.1</td>\n",
              "      <td>1.65</td>\n",
              "      <td>36.13</td>\n",
              "      <td>2.48</td>\n",
              "      <td>0.2</td>\n",
              "      <td>6.2</td>\n",
              "      <td>0.68</td>\n",
              "      <td>1.1</td>\n",
              "      <td>4.00</td>\n",
              "      <td>2.1</td>\n",
              "    </tr>\n",
              "  </tbody>\n",
              "</table>\n",
              "<p>3315 rows × 13 columns</p>\n",
              "</div>"
            ],
            "text/plain": [
              "           Entity  Year  ...  Other Fuel Combustion  Transport\n",
              "10    Afghanistan  2000  ...                   1.18        0.0\n",
              "11    Afghanistan  2001  ...                   1.16        0.0\n",
              "12    Afghanistan  2002  ...                   1.14        0.0\n",
              "13    Afghanistan  2003  ...                   1.12        0.0\n",
              "14    Afghanistan  2004  ...                   1.11        0.0\n",
              "...           ...   ...  ...                    ...        ...\n",
              "5260     Zimbabwe  2012  ...                   3.61        2.6\n",
              "5261     Zimbabwe  2013  ...                   3.65        2.9\n",
              "5262     Zimbabwe  2014  ...                   3.90        2.6\n",
              "5263     Zimbabwe  2015  ...                   3.95        2.5\n",
              "5264     Zimbabwe  2016  ...                   4.00        2.1\n",
              "\n",
              "[3315 rows x 13 columns]"
            ]
          },
          "metadata": {
            "tags": []
          },
          "execution_count": 10
        }
      ]
    },
    {
      "cell_type": "markdown",
      "metadata": {
        "id": "Ie5Q8Zsqfubl"
      },
      "source": [
        "Menampilkan data emisi berdasarkan country"
      ]
    },
    {
      "cell_type": "code",
      "metadata": {
        "id": "Y9Ry0GPgeI_G",
        "outputId": "2246ff83-05c4-4410-996b-9520dbd99e00",
        "colab": {
          "base_uri": "https://localhost:8080/",
          "height": 436
        }
      },
      "source": [
        "emisi_entity = emisi.groupby('Entity').sum()\n",
        "emisi_entity.drop('Year',axis=1)"
      ],
      "execution_count": 11,
      "outputs": [
        {
          "output_type": "execute_result",
          "data": {
            "text/html": [
              "<div>\n",
              "<style scoped>\n",
              "    .dataframe tbody tr th:only-of-type {\n",
              "        vertical-align: middle;\n",
              "    }\n",
              "\n",
              "    .dataframe tbody tr th {\n",
              "        vertical-align: top;\n",
              "    }\n",
              "\n",
              "    .dataframe thead th {\n",
              "        text-align: right;\n",
              "    }\n",
              "</style>\n",
              "<table border=\"1\" class=\"dataframe\">\n",
              "  <thead>\n",
              "    <tr style=\"text-align: right;\">\n",
              "      <th></th>\n",
              "      <th>Agriculture</th>\n",
              "      <th>Bunker Fuels</th>\n",
              "      <th>Industry</th>\n",
              "      <th>Land-Use Change and Forestry</th>\n",
              "      <th>Waste</th>\n",
              "      <th>Buildings</th>\n",
              "      <th>Electricity &amp; Heat</th>\n",
              "      <th>Fugitive from energy production</th>\n",
              "      <th>Manufacturing/Construction energy</th>\n",
              "      <th>Other Fuel Combustion</th>\n",
              "      <th>Transport</th>\n",
              "    </tr>\n",
              "    <tr>\n",
              "      <th>Entity</th>\n",
              "      <th></th>\n",
              "      <th></th>\n",
              "      <th></th>\n",
              "      <th></th>\n",
              "      <th></th>\n",
              "      <th></th>\n",
              "      <th></th>\n",
              "      <th></th>\n",
              "      <th></th>\n",
              "      <th></th>\n",
              "      <th></th>\n",
              "    </tr>\n",
              "  </thead>\n",
              "  <tbody>\n",
              "    <tr>\n",
              "      <th>Afghanistan</th>\n",
              "      <td>229.23</td>\n",
              "      <td>0.0</td>\n",
              "      <td>4.78</td>\n",
              "      <td>0.00</td>\n",
              "      <td>45.27</td>\n",
              "      <td>0.0</td>\n",
              "      <td>0.0</td>\n",
              "      <td>15.16</td>\n",
              "      <td>0.0</td>\n",
              "      <td>350.31</td>\n",
              "      <td>0.0</td>\n",
              "    </tr>\n",
              "    <tr>\n",
              "      <th>Albania</th>\n",
              "      <td>57.21</td>\n",
              "      <td>1.9</td>\n",
              "      <td>13.62</td>\n",
              "      <td>1.30</td>\n",
              "      <td>16.44</td>\n",
              "      <td>5.5</td>\n",
              "      <td>3.7</td>\n",
              "      <td>0.06</td>\n",
              "      <td>10.9</td>\n",
              "      <td>10.93</td>\n",
              "      <td>36.5</td>\n",
              "    </tr>\n",
              "    <tr>\n",
              "      <th>Algeria</th>\n",
              "      <td>172.37</td>\n",
              "      <td>37.9</td>\n",
              "      <td>176.96</td>\n",
              "      <td>-31.05</td>\n",
              "      <td>202.81</td>\n",
              "      <td>238.7</td>\n",
              "      <td>635.3</td>\n",
              "      <td>679.70</td>\n",
              "      <td>154.2</td>\n",
              "      <td>49.73</td>\n",
              "      <td>513.8</td>\n",
              "    </tr>\n",
              "    <tr>\n",
              "      <th>Andorra</th>\n",
              "      <td>0.00</td>\n",
              "      <td>0.0</td>\n",
              "      <td>0.84</td>\n",
              "      <td>-0.49</td>\n",
              "      <td>0.78</td>\n",
              "      <td>0.0</td>\n",
              "      <td>0.0</td>\n",
              "      <td>0.00</td>\n",
              "      <td>0.0</td>\n",
              "      <td>0.00</td>\n",
              "      <td>0.0</td>\n",
              "    </tr>\n",
              "    <tr>\n",
              "      <th>Angola</th>\n",
              "      <td>605.03</td>\n",
              "      <td>22.8</td>\n",
              "      <td>12.49</td>\n",
              "      <td>1822.41</td>\n",
              "      <td>20.66</td>\n",
              "      <td>49.7</td>\n",
              "      <td>34.2</td>\n",
              "      <td>443.88</td>\n",
              "      <td>33.9</td>\n",
              "      <td>9.37</td>\n",
              "      <td>85.5</td>\n",
              "    </tr>\n",
              "    <tr>\n",
              "      <th>...</th>\n",
              "      <td>...</td>\n",
              "      <td>...</td>\n",
              "      <td>...</td>\n",
              "      <td>...</td>\n",
              "      <td>...</td>\n",
              "      <td>...</td>\n",
              "      <td>...</td>\n",
              "      <td>...</td>\n",
              "      <td>...</td>\n",
              "      <td>...</td>\n",
              "      <td>...</td>\n",
              "    </tr>\n",
              "    <tr>\n",
              "      <th>Vietnam</th>\n",
              "      <td>1141.08</td>\n",
              "      <td>37.9</td>\n",
              "      <td>310.62</td>\n",
              "      <td>-311.97</td>\n",
              "      <td>263.71</td>\n",
              "      <td>164.9</td>\n",
              "      <td>586.3</td>\n",
              "      <td>265.66</td>\n",
              "      <td>575.6</td>\n",
              "      <td>79.47</td>\n",
              "      <td>401.1</td>\n",
              "    </tr>\n",
              "    <tr>\n",
              "      <th>World</th>\n",
              "      <td>92745.05</td>\n",
              "      <td>17669.3</td>\n",
              "      <td>35016.86</td>\n",
              "      <td>65336.52</td>\n",
              "      <td>24954.58</td>\n",
              "      <td>45047.6</td>\n",
              "      <td>225861.8</td>\n",
              "      <td>44408.04</td>\n",
              "      <td>90478.9</td>\n",
              "      <td>21809.65</td>\n",
              "      <td>114967.3</td>\n",
              "    </tr>\n",
              "    <tr>\n",
              "      <th>Yemen</th>\n",
              "      <td>122.56</td>\n",
              "      <td>10.2</td>\n",
              "      <td>15.21</td>\n",
              "      <td>0.00</td>\n",
              "      <td>35.01</td>\n",
              "      <td>42.2</td>\n",
              "      <td>101.3</td>\n",
              "      <td>17.55</td>\n",
              "      <td>40.2</td>\n",
              "      <td>43.18</td>\n",
              "      <td>94.3</td>\n",
              "    </tr>\n",
              "    <tr>\n",
              "      <th>Zambia</th>\n",
              "      <td>440.00</td>\n",
              "      <td>2.3</td>\n",
              "      <td>10.68</td>\n",
              "      <td>7253.38</td>\n",
              "      <td>45.19</td>\n",
              "      <td>1.9</td>\n",
              "      <td>1.2</td>\n",
              "      <td>0.02</td>\n",
              "      <td>16.3</td>\n",
              "      <td>49.81</td>\n",
              "      <td>14.4</td>\n",
              "    </tr>\n",
              "    <tr>\n",
              "      <th>Zimbabwe</th>\n",
              "      <td>205.77</td>\n",
              "      <td>1.2</td>\n",
              "      <td>19.33</td>\n",
              "      <td>634.44</td>\n",
              "      <td>36.24</td>\n",
              "      <td>8.3</td>\n",
              "      <td>91.9</td>\n",
              "      <td>9.38</td>\n",
              "      <td>28.3</td>\n",
              "      <td>63.14</td>\n",
              "      <td>30.2</td>\n",
              "    </tr>\n",
              "  </tbody>\n",
              "</table>\n",
              "<p>195 rows × 11 columns</p>\n",
              "</div>"
            ],
            "text/plain": [
              "             Agriculture  Bunker Fuels  ...  Other Fuel Combustion  Transport\n",
              "Entity                                  ...                                  \n",
              "Afghanistan       229.23           0.0  ...                 350.31        0.0\n",
              "Albania            57.21           1.9  ...                  10.93       36.5\n",
              "Algeria           172.37          37.9  ...                  49.73      513.8\n",
              "Andorra             0.00           0.0  ...                   0.00        0.0\n",
              "Angola            605.03          22.8  ...                   9.37       85.5\n",
              "...                  ...           ...  ...                    ...        ...\n",
              "Vietnam          1141.08          37.9  ...                  79.47      401.1\n",
              "World           92745.05       17669.3  ...               21809.65   114967.3\n",
              "Yemen             122.56          10.2  ...                  43.18       94.3\n",
              "Zambia            440.00           2.3  ...                  49.81       14.4\n",
              "Zimbabwe          205.77           1.2  ...                  63.14       30.2\n",
              "\n",
              "[195 rows x 11 columns]"
            ]
          },
          "metadata": {
            "tags": []
          },
          "execution_count": 11
        }
      ]
    },
    {
      "cell_type": "markdown",
      "metadata": {
        "id": "86WlabFwf0C5"
      },
      "source": [
        "Menampilkan data emisi tiap tahun"
      ]
    },
    {
      "cell_type": "code",
      "metadata": {
        "id": "1l1HDek-eQtf",
        "outputId": "1765cb37-db73-4e51-8be5-6a7028475e78",
        "colab": {
          "base_uri": "https://localhost:8080/",
          "height": 581
        }
      },
      "source": [
        "emisi_year = emisi.groupby('Year').sum()\n",
        "emisi_year"
      ],
      "execution_count": 12,
      "outputs": [
        {
          "output_type": "execute_result",
          "data": {
            "text/html": [
              "<div>\n",
              "<style scoped>\n",
              "    .dataframe tbody tr th:only-of-type {\n",
              "        vertical-align: middle;\n",
              "    }\n",
              "\n",
              "    .dataframe tbody tr th {\n",
              "        vertical-align: top;\n",
              "    }\n",
              "\n",
              "    .dataframe thead th {\n",
              "        text-align: right;\n",
              "    }\n",
              "</style>\n",
              "<table border=\"1\" class=\"dataframe\">\n",
              "  <thead>\n",
              "    <tr style=\"text-align: right;\">\n",
              "      <th></th>\n",
              "      <th>Agriculture</th>\n",
              "      <th>Bunker Fuels</th>\n",
              "      <th>Industry</th>\n",
              "      <th>Land-Use Change and Forestry</th>\n",
              "      <th>Waste</th>\n",
              "      <th>Buildings</th>\n",
              "      <th>Electricity &amp; Heat</th>\n",
              "      <th>Fugitive from energy production</th>\n",
              "      <th>Manufacturing/Construction energy</th>\n",
              "      <th>Other Fuel Combustion</th>\n",
              "      <th>Transport</th>\n",
              "    </tr>\n",
              "    <tr>\n",
              "      <th>Year</th>\n",
              "      <th></th>\n",
              "      <th></th>\n",
              "      <th></th>\n",
              "      <th></th>\n",
              "      <th></th>\n",
              "      <th></th>\n",
              "      <th></th>\n",
              "      <th></th>\n",
              "      <th></th>\n",
              "      <th></th>\n",
              "      <th></th>\n",
              "    </tr>\n",
              "  </thead>\n",
              "  <tbody>\n",
              "    <tr>\n",
              "      <th>2000</th>\n",
              "      <td>10580.03</td>\n",
              "      <td>1864.3</td>\n",
              "      <td>2934.23</td>\n",
              "      <td>6725.00</td>\n",
              "      <td>3093.37</td>\n",
              "      <td>5577.8</td>\n",
              "      <td>22300.9</td>\n",
              "      <td>4354.56</td>\n",
              "      <td>8201.0</td>\n",
              "      <td>2376.34</td>\n",
              "      <td>11365.0</td>\n",
              "    </tr>\n",
              "    <tr>\n",
              "      <th>2001</th>\n",
              "      <td>10708.64</td>\n",
              "      <td>1802.4</td>\n",
              "      <td>2980.41</td>\n",
              "      <td>7643.83</td>\n",
              "      <td>3063.45</td>\n",
              "      <td>5666.0</td>\n",
              "      <td>22827.7</td>\n",
              "      <td>4443.02</td>\n",
              "      <td>8235.7</td>\n",
              "      <td>2417.08</td>\n",
              "      <td>11474.9</td>\n",
              "    </tr>\n",
              "    <tr>\n",
              "      <th>2002</th>\n",
              "      <td>10780.01</td>\n",
              "      <td>1876.0</td>\n",
              "      <td>3110.63</td>\n",
              "      <td>9584.39</td>\n",
              "      <td>3050.91</td>\n",
              "      <td>5635.0</td>\n",
              "      <td>23214.8</td>\n",
              "      <td>4534.21</td>\n",
              "      <td>8211.9</td>\n",
              "      <td>2437.11</td>\n",
              "      <td>11724.1</td>\n",
              "    </tr>\n",
              "    <tr>\n",
              "      <th>2003</th>\n",
              "      <td>10758.73</td>\n",
              "      <td>1897.6</td>\n",
              "      <td>3266.67</td>\n",
              "      <td>8891.90</td>\n",
              "      <td>3039.85</td>\n",
              "      <td>5827.6</td>\n",
              "      <td>24490.4</td>\n",
              "      <td>4710.60</td>\n",
              "      <td>8592.1</td>\n",
              "      <td>2480.24</td>\n",
              "      <td>11996.8</td>\n",
              "    </tr>\n",
              "    <tr>\n",
              "      <th>2004</th>\n",
              "      <td>10973.98</td>\n",
              "      <td>2058.0</td>\n",
              "      <td>3471.40</td>\n",
              "      <td>9535.53</td>\n",
              "      <td>3012.00</td>\n",
              "      <td>5906.6</td>\n",
              "      <td>25237.7</td>\n",
              "      <td>4849.08</td>\n",
              "      <td>9454.7</td>\n",
              "      <td>2569.33</td>\n",
              "      <td>12490.9</td>\n",
              "    </tr>\n",
              "    <tr>\n",
              "      <th>2005</th>\n",
              "      <td>11040.68</td>\n",
              "      <td>2159.5</td>\n",
              "      <td>3640.44</td>\n",
              "      <td>9018.84</td>\n",
              "      <td>2988.57</td>\n",
              "      <td>5915.9</td>\n",
              "      <td>26001.2</td>\n",
              "      <td>5020.94</td>\n",
              "      <td>10278.2</td>\n",
              "      <td>2602.52</td>\n",
              "      <td>12711.5</td>\n",
              "    </tr>\n",
              "    <tr>\n",
              "      <th>2006</th>\n",
              "      <td>11134.56</td>\n",
              "      <td>2274.2</td>\n",
              "      <td>3903.05</td>\n",
              "      <td>7461.32</td>\n",
              "      <td>3007.77</td>\n",
              "      <td>5840.5</td>\n",
              "      <td>26985.8</td>\n",
              "      <td>5185.88</td>\n",
              "      <td>10751.2</td>\n",
              "      <td>2635.73</td>\n",
              "      <td>12964.1</td>\n",
              "    </tr>\n",
              "    <tr>\n",
              "      <th>2007</th>\n",
              "      <td>11314.26</td>\n",
              "      <td>2378.9</td>\n",
              "      <td>4166.52</td>\n",
              "      <td>6464.90</td>\n",
              "      <td>3020.10</td>\n",
              "      <td>5749.0</td>\n",
              "      <td>28157.0</td>\n",
              "      <td>5326.19</td>\n",
              "      <td>11303.1</td>\n",
              "      <td>2651.32</td>\n",
              "      <td>13340.3</td>\n",
              "    </tr>\n",
              "    <tr>\n",
              "      <th>2008</th>\n",
              "      <td>11336.85</td>\n",
              "      <td>2401.9</td>\n",
              "      <td>4251.62</td>\n",
              "      <td>6388.08</td>\n",
              "      <td>3026.40</td>\n",
              "      <td>5924.2</td>\n",
              "      <td>28096.4</td>\n",
              "      <td>5536.82</td>\n",
              "      <td>11592.7</td>\n",
              "      <td>2658.37</td>\n",
              "      <td>13331.5</td>\n",
              "    </tr>\n",
              "    <tr>\n",
              "      <th>2009</th>\n",
              "      <td>11317.98</td>\n",
              "      <td>2260.4</td>\n",
              "      <td>4334.48</td>\n",
              "      <td>7030.92</td>\n",
              "      <td>3039.11</td>\n",
              "      <td>5812.3</td>\n",
              "      <td>27605.0</td>\n",
              "      <td>5515.79</td>\n",
              "      <td>11471.0</td>\n",
              "      <td>2688.33</td>\n",
              "      <td>13086.6</td>\n",
              "    </tr>\n",
              "    <tr>\n",
              "      <th>2010</th>\n",
              "      <td>11470.67</td>\n",
              "      <td>2391.2</td>\n",
              "      <td>4595.45</td>\n",
              "      <td>6332.58</td>\n",
              "      <td>3057.85</td>\n",
              "      <td>5942.7</td>\n",
              "      <td>29384.9</td>\n",
              "      <td>5622.99</td>\n",
              "      <td>12412.9</td>\n",
              "      <td>2729.40</td>\n",
              "      <td>13578.3</td>\n",
              "    </tr>\n",
              "    <tr>\n",
              "      <th>2011</th>\n",
              "      <td>11733.98</td>\n",
              "      <td>2435.3</td>\n",
              "      <td>4894.05</td>\n",
              "      <td>6369.52</td>\n",
              "      <td>3058.97</td>\n",
              "      <td>5774.3</td>\n",
              "      <td>30517.0</td>\n",
              "      <td>5699.91</td>\n",
              "      <td>12873.7</td>\n",
              "      <td>2722.64</td>\n",
              "      <td>13754.4</td>\n",
              "    </tr>\n",
              "    <tr>\n",
              "      <th>2012</th>\n",
              "      <td>11764.67</td>\n",
              "      <td>2342.4</td>\n",
              "      <td>5054.03</td>\n",
              "      <td>6502.88</td>\n",
              "      <td>3074.61</td>\n",
              "      <td>5689.2</td>\n",
              "      <td>31102.4</td>\n",
              "      <td>5748.08</td>\n",
              "      <td>12835.1</td>\n",
              "      <td>2812.78</td>\n",
              "      <td>13897.9</td>\n",
              "    </tr>\n",
              "    <tr>\n",
              "      <th>2013</th>\n",
              "      <td>11647.09</td>\n",
              "      <td>2351.5</td>\n",
              "      <td>5263.33</td>\n",
              "      <td>6299.46</td>\n",
              "      <td>3085.78</td>\n",
              "      <td>5909.8</td>\n",
              "      <td>31582.7</td>\n",
              "      <td>5763.69</td>\n",
              "      <td>12897.5</td>\n",
              "      <td>2896.58</td>\n",
              "      <td>14271.6</td>\n",
              "    </tr>\n",
              "    <tr>\n",
              "      <th>2014</th>\n",
              "      <td>11741.22</td>\n",
              "      <td>2425.5</td>\n",
              "      <td>5501.35</td>\n",
              "      <td>6719.77</td>\n",
              "      <td>3142.57</td>\n",
              "      <td>5746.4</td>\n",
              "      <td>31374.5</td>\n",
              "      <td>5799.51</td>\n",
              "      <td>12953.1</td>\n",
              "      <td>2933.36</td>\n",
              "      <td>14497.8</td>\n",
              "    </tr>\n",
              "    <tr>\n",
              "      <th>2015</th>\n",
              "      <td>11873.42</td>\n",
              "      <td>2535.5</td>\n",
              "      <td>5519.42</td>\n",
              "      <td>7390.73</td>\n",
              "      <td>3199.35</td>\n",
              "      <td>5796.4</td>\n",
              "      <td>30984.8</td>\n",
              "      <td>5808.47</td>\n",
              "      <td>12806.5</td>\n",
              "      <td>2967.20</td>\n",
              "      <td>14890.8</td>\n",
              "    </tr>\n",
              "    <tr>\n",
              "      <th>2016</th>\n",
              "      <td>11978.50</td>\n",
              "      <td>2635.5</td>\n",
              "      <td>5683.53</td>\n",
              "      <td>5999.97</td>\n",
              "      <td>3230.17</td>\n",
              "      <td>5888.0</td>\n",
              "      <td>30915.2</td>\n",
              "      <td>5813.10</td>\n",
              "      <td>12509.1</td>\n",
              "      <td>2959.89</td>\n",
              "      <td>15199.0</td>\n",
              "    </tr>\n",
              "  </tbody>\n",
              "</table>\n",
              "</div>"
            ],
            "text/plain": [
              "      Agriculture  Bunker Fuels  ...  Other Fuel Combustion  Transport\n",
              "Year                             ...                                  \n",
              "2000     10580.03        1864.3  ...                2376.34    11365.0\n",
              "2001     10708.64        1802.4  ...                2417.08    11474.9\n",
              "2002     10780.01        1876.0  ...                2437.11    11724.1\n",
              "2003     10758.73        1897.6  ...                2480.24    11996.8\n",
              "2004     10973.98        2058.0  ...                2569.33    12490.9\n",
              "2005     11040.68        2159.5  ...                2602.52    12711.5\n",
              "2006     11134.56        2274.2  ...                2635.73    12964.1\n",
              "2007     11314.26        2378.9  ...                2651.32    13340.3\n",
              "2008     11336.85        2401.9  ...                2658.37    13331.5\n",
              "2009     11317.98        2260.4  ...                2688.33    13086.6\n",
              "2010     11470.67        2391.2  ...                2729.40    13578.3\n",
              "2011     11733.98        2435.3  ...                2722.64    13754.4\n",
              "2012     11764.67        2342.4  ...                2812.78    13897.9\n",
              "2013     11647.09        2351.5  ...                2896.58    14271.6\n",
              "2014     11741.22        2425.5  ...                2933.36    14497.8\n",
              "2015     11873.42        2535.5  ...                2967.20    14890.8\n",
              "2016     11978.50        2635.5  ...                2959.89    15199.0\n",
              "\n",
              "[17 rows x 11 columns]"
            ]
          },
          "metadata": {
            "tags": []
          },
          "execution_count": 12
        }
      ]
    },
    {
      "cell_type": "markdown",
      "metadata": {
        "id": "HVHH_46Af7p5"
      },
      "source": [
        "Area plot untuk trend greenhouse emission from sector"
      ]
    },
    {
      "cell_type": "code",
      "metadata": {
        "id": "TxChzJYneX_e",
        "outputId": "9f0ca977-b6d1-47b7-afea-adbf7b8cba62",
        "colab": {
          "base_uri": "https://localhost:8080/",
          "height": 295
        }
      },
      "source": [
        "emisi_year.plot(kind='area')\n",
        "\n",
        "plt.title('Greenhouse emission trend from sector')\n",
        "plt.ylabel('Number of emission')\n",
        "plt.xlabel('year')\n",
        "\n",
        "plt.show()"
      ],
      "execution_count": 13,
      "outputs": [
        {
          "output_type": "display_data",
          "data": {
            "image/png": "[encoded data removed]",
            "text/plain": [
              "<Figure size 432x288 with 1 Axes>"
            ]
          },
          "metadata": {
            "tags": [],
            "needs_background": "light"
          }
        }
      ]
    },
    {
      "cell_type": "markdown",
      "metadata": {
        "id": "UZPMl_rTgCUp"
      },
      "source": [
        "Jumlah greenhouse emission tiap sektor selama tahun 2000-2016 serta total greenhouse emission tiap tahun"
      ]
    },
    {
      "cell_type": "code",
      "metadata": {
        "id": "JYwAx8o1edmI",
        "outputId": "c92dc708-d2d0-4f4e-beca-d6a5c355125c",
        "colab": {
          "base_uri": "https://localhost:8080/",
          "height": 521
        }
      },
      "source": [
        "emisi_year_t = emisi_year.T\n",
        "emisi_year_t.rename(columns={'Year':'Sector'}, inplace=True)\n",
        "\n",
        "sum_sector = emisi_year_t.sum(axis=1)\n",
        "sum_year = emisi_year_t.sum(axis=0)\n",
        "print (sum_sector)\n",
        "print (sum_year)"
      ],
      "execution_count": 14,
      "outputs": [
        {
          "output_type": "stream",
          "text": [
            "Agriculture                          192155.27\n",
            "Bunker Fuels                          38090.10\n",
            "Industry                              72570.61\n",
            "Land-Use Change and Forestry         124359.62\n",
            "Waste                                 52190.83\n",
            "Buildings                             98601.70\n",
            "Electricity & Heat                   470778.40\n",
            "Fugitive from energy production       89732.84\n",
            "Manufacturing/Construction energy    187379.50\n",
            "Other Fuel Combustion                 45538.22\n",
            "Transport                            224575.50\n",
            "dtype: float64\n",
            "Year\n",
            "2000     79372.53\n",
            "2001     81263.13\n",
            "2002     84159.06\n",
            "2003     85952.49\n",
            "2004     89559.22\n",
            "2005     91378.29\n",
            "2006     92144.11\n",
            "2007     93871.59\n",
            "2008     94544.84\n",
            "2009     94161.91\n",
            "2010     97518.94\n",
            "2011     99833.77\n",
            "2012    100824.05\n",
            "2013    101969.03\n",
            "2014    102835.08\n",
            "2015    103772.59\n",
            "2016    102811.96\n",
            "dtype: float64\n"
          ],
          "name": "stdout"
        }
      ]
    },
    {
      "cell_type": "markdown",
      "metadata": {
        "id": "l_gvgToqqBJT"
      },
      "source": [
        "# Modelling"
      ]
    },
    {
      "cell_type": "code",
      "metadata": {
        "id": "yo5xtPZqqC1p",
        "outputId": "c866aa38-5f5f-4fc5-9c4a-1edbca4acbd7",
        "colab": {
          "resources": {
            "http://localhost:8080/nbextensions/google.colab/files.js": {
              "data": "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",
              "ok": true,
              "headers": [
                [
                  "content-type",
                  "application/javascript"
                ]
              ],
              "status": 200,
              "status_text": ""
            }
          },
          "base_uri": "https://localhost:8080/",
          "height": 70
        }
      },
      "source": [
        "uploaded1 = files.upload()"
      ],
      "execution_count": 15,
      "outputs": [
        {
          "output_type": "display_data",
          "data": {
            "text/html": [
              "\n",
              "     <input type=\"file\" id=\"files-da3db9e4-c83c-4940-b475-ba35d9a7da8e\" name=\"files[]\" multiple disabled\n",
              "        style=\"border:none\" />\n",
              "     <output id=\"result-da3db9e4-c83c-4940-b475-ba35d9a7da8e\">\n",
              "      Upload widget is only available when the cell has been executed in the\n",
              "      current browser session. Please rerun this cell to enable.\n",
              "      </output>\n",
              "      <script src=\"/nbextensions/google.colab/files.js\"></script> "
            ],
            "text/plain": [
              "<IPython.core.display.HTML object>"
            ]
          },
          "metadata": {
            "tags": []
          }
        },
        {
          "output_type": "stream",
          "text": [
            "Saving electricity-generation.xlsx to electricity-generation.xlsx\n"
          ],
          "name": "stdout"
        }
      ]
    },
    {
      "cell_type": "code",
      "metadata": {
        "id": "z30gXA6U3Y7V"
      },
      "source": [
        "dfE =  pd.ExcelFile(io.BytesIO(uploaded1['electricity-generation.xlsx']))\n",
        "df_electricity = pd.read_excel(dfE,'electricity-generation (1)')\n",
        "#df_electricity = pd.read_csv('electricity-generation.csv')"
      ],
      "execution_count": 17,
      "outputs": []
    },
    {
      "cell_type": "code",
      "metadata": {
        "id": "akHjJkZ63jrJ",
        "outputId": "847b693c-8122-4298-cd0b-b9f665281ff4",
        "colab": {
          "base_uri": "https://localhost:8080/",
          "height": 191
        }
      },
      "source": [
        "df_electricity.head()"
      ],
      "execution_count": 18,
      "outputs": [
        {
          "output_type": "execute_result",
          "data": {
            "text/html": [
              "<div>\n",
              "<style scoped>\n",
              "    .dataframe tbody tr th:only-of-type {\n",
              "        vertical-align: middle;\n",
              "    }\n",
              "\n",
              "    .dataframe tbody tr th {\n",
              "        vertical-align: top;\n",
              "    }\n",
              "\n",
              "    .dataframe thead th {\n",
              "        text-align: right;\n",
              "    }\n",
              "</style>\n",
              "<table border=\"1\" class=\"dataframe\">\n",
              "  <thead>\n",
              "    <tr style=\"text-align: right;\">\n",
              "      <th></th>\n",
              "      <th>Country</th>\n",
              "      <th>Code</th>\n",
              "      <th>Year</th>\n",
              "      <th>Electricity Generation (TWh)</th>\n",
              "    </tr>\n",
              "  </thead>\n",
              "  <tbody>\n",
              "    <tr>\n",
              "      <th>0</th>\n",
              "      <td>Afghanistan</td>\n",
              "      <td>AFG</td>\n",
              "      <td>2000</td>\n",
              "      <td>0.467</td>\n",
              "    </tr>\n",
              "    <tr>\n",
              "      <th>1</th>\n",
              "      <td>Afghanistan</td>\n",
              "      <td>AFG</td>\n",
              "      <td>2001</td>\n",
              "      <td>0.592</td>\n",
              "    </tr>\n",
              "    <tr>\n",
              "      <th>2</th>\n",
              "      <td>Afghanistan</td>\n",
              "      <td>AFG</td>\n",
              "      <td>2002</td>\n",
              "      <td>0.687</td>\n",
              "    </tr>\n",
              "    <tr>\n",
              "      <th>3</th>\n",
              "      <td>Afghanistan</td>\n",
              "      <td>AFG</td>\n",
              "      <td>2003</td>\n",
              "      <td>0.939</td>\n",
              "    </tr>\n",
              "    <tr>\n",
              "      <th>4</th>\n",
              "      <td>Afghanistan</td>\n",
              "      <td>AFG</td>\n",
              "      <td>2004</td>\n",
              "      <td>0.894</td>\n",
              "    </tr>\n",
              "  </tbody>\n",
              "</table>\n",
              "</div>"
            ],
            "text/plain": [
              "       Country Code  Year  Electricity Generation (TWh)\n",
              "0  Afghanistan  AFG  2000                         0.467\n",
              "1  Afghanistan  AFG  2001                         0.592\n",
              "2  Afghanistan  AFG  2002                         0.687\n",
              "3  Afghanistan  AFG  2003                         0.939\n",
              "4  Afghanistan  AFG  2004                         0.894"
            ]
          },
          "metadata": {
            "tags": []
          },
          "execution_count": 18
        }
      ]
    },
    {
      "cell_type": "code",
      "metadata": {
        "id": "IKdfbTwr3mtu",
        "outputId": "d2ffa978-bfc6-40e1-aff9-d1d5a7f654d6",
        "colab": {
          "resources": {
            "http://localhost:8080/nbextensions/google.colab/files.js": {
              "data": "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",
              "ok": true,
              "headers": [
                [
                  "content-type",
                  "application/javascript"
                ]
              ],
              "status": 200,
              "status_text": ""
            }
          },
          "base_uri": "https://localhost:8080/",
          "height": 70
        }
      },
      "source": [
        "uploaded2=files.upload()"
      ],
      "execution_count": 19,
      "outputs": [
        {
          "output_type": "display_data",
          "data": {
            "text/html": [
              "\n",
              "     <input type=\"file\" id=\"files-efccd871-6bde-4171-951a-be9531dfecfd\" name=\"files[]\" multiple disabled\n",
              "        style=\"border:none\" />\n",
              "     <output id=\"result-efccd871-6bde-4171-951a-be9531dfecfd\">\n",
              "      Upload widget is only available when the cell has been executed in the\n",
              "      current browser session. Please rerun this cell to enable.\n",
              "      </output>\n",
              "      <script src=\"/nbextensions/google.colab/files.js\"></script> "
            ],
            "text/plain": [
              "<IPython.core.display.HTML object>"
            ]
          },
          "metadata": {
            "tags": []
          }
        },
        {
          "output_type": "stream",
          "text": [
            "Saving ghg-emissions.xlsx to ghg-emissions.xlsx\n"
          ],
          "name": "stdout"
        }
      ]
    },
    {
      "cell_type": "code",
      "metadata": {
        "id": "1Tx3EQkO3uFq"
      },
      "source": [
        "#dfg =  pd.ExcelFile(io.BytesIO(uploaded1['ghg-emissions.xlsx']))\n",
        "#df_ghg = pd.read_excel(dfg, 'ghg-emissions')\n",
        "df_ghg = pd.read_excel('ghg-emissions.xlsx')"
      ],
      "execution_count": 20,
      "outputs": []
    },
    {
      "cell_type": "code",
      "metadata": {
        "id": "Y13-z5SU3wth",
        "outputId": "715a0b8f-4cb9-4929-de70-eb8801d78598",
        "colab": {
          "base_uri": "https://localhost:8080/",
          "height": 191
        }
      },
      "source": [
        "df_ghg.head()"
      ],
      "execution_count": 21,
      "outputs": [
        {
          "output_type": "execute_result",
          "data": {
            "text/html": [
              "<div>\n",
              "<style scoped>\n",
              "    .dataframe tbody tr th:only-of-type {\n",
              "        vertical-align: middle;\n",
              "    }\n",
              "\n",
              "    .dataframe tbody tr th {\n",
              "        vertical-align: top;\n",
              "    }\n",
              "\n",
              "    .dataframe thead th {\n",
              "        text-align: right;\n",
              "    }\n",
              "</style>\n",
              "<table border=\"1\" class=\"dataframe\">\n",
              "  <thead>\n",
              "    <tr style=\"text-align: right;\">\n",
              "      <th></th>\n",
              "      <th>Country</th>\n",
              "      <th>Code</th>\n",
              "      <th>Year</th>\n",
              "      <th>ghg-emission</th>\n",
              "    </tr>\n",
              "  </thead>\n",
              "  <tbody>\n",
              "    <tr>\n",
              "      <th>0</th>\n",
              "      <td>Afghanistan</td>\n",
              "      <td>AFG</td>\n",
              "      <td>2000</td>\n",
              "      <td>15.05</td>\n",
              "    </tr>\n",
              "    <tr>\n",
              "      <th>1</th>\n",
              "      <td>Afghanistan</td>\n",
              "      <td>AFG</td>\n",
              "      <td>2001</td>\n",
              "      <td>13.47</td>\n",
              "    </tr>\n",
              "    <tr>\n",
              "      <th>2</th>\n",
              "      <td>Afghanistan</td>\n",
              "      <td>AFG</td>\n",
              "      <td>2002</td>\n",
              "      <td>16.10</td>\n",
              "    </tr>\n",
              "    <tr>\n",
              "      <th>3</th>\n",
              "      <td>Afghanistan</td>\n",
              "      <td>AFG</td>\n",
              "      <td>2003</td>\n",
              "      <td>16.78</td>\n",
              "    </tr>\n",
              "    <tr>\n",
              "      <th>4</th>\n",
              "      <td>Afghanistan</td>\n",
              "      <td>AFG</td>\n",
              "      <td>2004</td>\n",
              "      <td>16.35</td>\n",
              "    </tr>\n",
              "  </tbody>\n",
              "</table>\n",
              "</div>"
            ],
            "text/plain": [
              "       Country Code  Year  ghg-emission\n",
              "0  Afghanistan  AFG  2000         15.05\n",
              "1  Afghanistan  AFG  2001         13.47\n",
              "2  Afghanistan  AFG  2002         16.10\n",
              "3  Afghanistan  AFG  2003         16.78\n",
              "4  Afghanistan  AFG  2004         16.35"
            ]
          },
          "metadata": {
            "tags": []
          },
          "execution_count": 21
        }
      ]
    },
    {
      "cell_type": "code",
      "metadata": {
        "id": "VZSLGbQT3zcG",
        "outputId": "a60b89ad-ea27-4639-a82a-2d158da9c41e",
        "colab": {
          "base_uri": "https://localhost:8080/",
          "height": 277
        }
      },
      "source": [
        "# Check for Nulls\n",
        "print(df_electricity.isnull().any())\n",
        "print(\"--------------------------------------\")\n",
        "# check for numbers\n",
        "print(df_electricity.describe())\n",
        "print(\"--------------------------------------\")"
      ],
      "execution_count": 22,
      "outputs": [
        {
          "output_type": "stream",
          "text": [
            "Country                         False\n",
            "Code                             True\n",
            "Year                            False\n",
            "Electricity Generation (TWh)    False\n",
            "dtype: bool\n",
            "--------------------------------------\n",
            "              Year  Electricity Generation (TWh)\n",
            "count  3155.000000                   3155.000000\n",
            "mean   2007.941046                    112.567981\n",
            "std       4.928501                    472.814672\n",
            "min    2000.000000                      0.000000\n",
            "25%    2004.000000                      0.968500\n",
            "50%    2008.000000                      8.629000\n",
            "75%    2012.000000                     51.666815\n",
            "max    2017.000000                   6133.160000\n",
            "--------------------------------------\n"
          ],
          "name": "stdout"
        }
      ]
    },
    {
      "cell_type": "code",
      "metadata": {
        "id": "1JoUxdWQ31gC",
        "outputId": "fcc5ce5a-1801-42d2-bc0b-6f4c3b53ad13",
        "colab": {
          "base_uri": "https://localhost:8080/",
          "height": 98
        }
      },
      "source": [
        "df_electricity.dtypes"
      ],
      "execution_count": 23,
      "outputs": [
        {
          "output_type": "execute_result",
          "data": {
            "text/plain": [
              "Country                          object\n",
              "Code                             object\n",
              "Year                              int64\n",
              "Electricity Generation (TWh)    float64\n",
              "dtype: object"
            ]
          },
          "metadata": {
            "tags": []
          },
          "execution_count": 23
        }
      ]
    },
    {
      "cell_type": "code",
      "metadata": {
        "id": "qgSXIAsa336H",
        "outputId": "541d9304-8627-40f3-d310-bba934cbb38f",
        "colab": {
          "base_uri": "https://localhost:8080/",
          "height": 191
        }
      },
      "source": [
        "#for further clustering we need to drop object dtypes\n",
        "df_electricityd = df_electricity.drop('Country', axis=1)\n",
        "df_electricityd = df_electricityd.drop('Code', axis=1)\n",
        "df_electricityd.head()"
      ],
      "execution_count": 25,
      "outputs": [
        {
          "output_type": "execute_result",
          "data": {
            "text/html": [
              "<div>\n",
              "<style scoped>\n",
              "    .dataframe tbody tr th:only-of-type {\n",
              "        vertical-align: middle;\n",
              "    }\n",
              "\n",
              "    .dataframe tbody tr th {\n",
              "        vertical-align: top;\n",
              "    }\n",
              "\n",
              "    .dataframe thead th {\n",
              "        text-align: right;\n",
              "    }\n",
              "</style>\n",
              "<table border=\"1\" class=\"dataframe\">\n",
              "  <thead>\n",
              "    <tr style=\"text-align: right;\">\n",
              "      <th></th>\n",
              "      <th>Year</th>\n",
              "      <th>Electricity Generation (TWh)</th>\n",
              "    </tr>\n",
              "  </thead>\n",
              "  <tbody>\n",
              "    <tr>\n",
              "      <th>0</th>\n",
              "      <td>2000</td>\n",
              "      <td>0.467</td>\n",
              "    </tr>\n",
              "    <tr>\n",
              "      <th>1</th>\n",
              "      <td>2001</td>\n",
              "      <td>0.592</td>\n",
              "    </tr>\n",
              "    <tr>\n",
              "      <th>2</th>\n",
              "      <td>2002</td>\n",
              "      <td>0.687</td>\n",
              "    </tr>\n",
              "    <tr>\n",
              "      <th>3</th>\n",
              "      <td>2003</td>\n",
              "      <td>0.939</td>\n",
              "    </tr>\n",
              "    <tr>\n",
              "      <th>4</th>\n",
              "      <td>2004</td>\n",
              "      <td>0.894</td>\n",
              "    </tr>\n",
              "  </tbody>\n",
              "</table>\n",
              "</div>"
            ],
            "text/plain": [
              "   Year  Electricity Generation (TWh)\n",
              "0  2000                         0.467\n",
              "1  2001                         0.592\n",
              "2  2002                         0.687\n",
              "3  2003                         0.939\n",
              "4  2004                         0.894"
            ]
          },
          "metadata": {
            "tags": []
          },
          "execution_count": 25
        }
      ]
    },
    {
      "cell_type": "code",
      "metadata": {
        "id": "Ou9kCeWm388w",
        "outputId": "17f8ca6c-7e9b-4aad-9659-3f7280ef0f9f",
        "colab": {
          "base_uri": "https://localhost:8080/",
          "height": 277
        }
      },
      "source": [
        "# Check for Nulls\n",
        "print(df_ghg.isnull().any())\n",
        "print(\"--------------------------------------\")\n",
        "# check for numbers\n",
        "print(df_ghg.describe())\n",
        "print(\"--------------------------------------\")"
      ],
      "execution_count": 26,
      "outputs": [
        {
          "output_type": "stream",
          "text": [
            "Country         False\n",
            "Code            False\n",
            "Year            False\n",
            "ghg-emission    False\n",
            "dtype: bool\n",
            "--------------------------------------\n",
            "              Year  ghg-emission\n",
            "count  3127.000000   3127.000000\n",
            "mean   2007.997442    214.338686\n",
            "std       4.898456    863.990376\n",
            "min    2000.000000      0.000000\n",
            "25%    2004.000000      9.140000\n",
            "50%    2008.000000     31.450000\n",
            "75%    2012.000000     96.745000\n",
            "max    2016.000000  11899.200000\n",
            "--------------------------------------\n"
          ],
          "name": "stdout"
        }
      ]
    },
    {
      "cell_type": "code",
      "metadata": {
        "id": "HYKQY-uG4Nyb",
        "outputId": "1006b89c-b9e2-494b-f54c-da1f7960c61b",
        "colab": {
          "base_uri": "https://localhost:8080/",
          "height": 391
        }
      },
      "source": [
        "#for further clustering we need to drop object dtypes\n",
        "df_ghgd = df_ghg.drop('Country', axis=1)\n",
        "df_ghgd = df_ghgd.drop('Code', axis=1)\n",
        "df_ghgd"
      ],
      "execution_count": 29,
      "outputs": [
        {
          "output_type": "execute_result",
          "data": {
            "text/html": [
              "<div>\n",
              "<style scoped>\n",
              "    .dataframe tbody tr th:only-of-type {\n",
              "        vertical-align: middle;\n",
              "    }\n",
              "\n",
              "    .dataframe tbody tr th {\n",
              "        vertical-align: top;\n",
              "    }\n",
              "\n",
              "    .dataframe thead th {\n",
              "        text-align: right;\n",
              "    }\n",
              "</style>\n",
              "<table border=\"1\" class=\"dataframe\">\n",
              "  <thead>\n",
              "    <tr style=\"text-align: right;\">\n",
              "      <th></th>\n",
              "      <th>Year</th>\n",
              "      <th>ghg-emission</th>\n",
              "    </tr>\n",
              "  </thead>\n",
              "  <tbody>\n",
              "    <tr>\n",
              "      <th>0</th>\n",
              "      <td>2000</td>\n",
              "      <td>15.05</td>\n",
              "    </tr>\n",
              "    <tr>\n",
              "      <th>1</th>\n",
              "      <td>2001</td>\n",
              "      <td>13.47</td>\n",
              "    </tr>\n",
              "    <tr>\n",
              "      <th>2</th>\n",
              "      <td>2002</td>\n",
              "      <td>16.10</td>\n",
              "    </tr>\n",
              "    <tr>\n",
              "      <th>3</th>\n",
              "      <td>2003</td>\n",
              "      <td>16.78</td>\n",
              "    </tr>\n",
              "    <tr>\n",
              "      <th>4</th>\n",
              "      <td>2004</td>\n",
              "      <td>16.35</td>\n",
              "    </tr>\n",
              "    <tr>\n",
              "      <th>...</th>\n",
              "      <td>...</td>\n",
              "      <td>...</td>\n",
              "    </tr>\n",
              "    <tr>\n",
              "      <th>3122</th>\n",
              "      <td>2012</td>\n",
              "      <td>31.48</td>\n",
              "    </tr>\n",
              "    <tr>\n",
              "      <th>3123</th>\n",
              "      <td>2013</td>\n",
              "      <td>31.44</td>\n",
              "    </tr>\n",
              "    <tr>\n",
              "      <th>3124</th>\n",
              "      <td>2014</td>\n",
              "      <td>29.99</td>\n",
              "    </tr>\n",
              "    <tr>\n",
              "      <th>3125</th>\n",
              "      <td>2015</td>\n",
              "      <td>31.24</td>\n",
              "    </tr>\n",
              "    <tr>\n",
              "      <th>3126</th>\n",
              "      <td>2016</td>\n",
              "      <td>29.84</td>\n",
              "    </tr>\n",
              "  </tbody>\n",
              "</table>\n",
              "<p>3127 rows × 2 columns</p>\n",
              "</div>"
            ],
            "text/plain": [
              "      Year  ghg-emission\n",
              "0     2000         15.05\n",
              "1     2001         13.47\n",
              "2     2002         16.10\n",
              "3     2003         16.78\n",
              "4     2004         16.35\n",
              "...    ...           ...\n",
              "3122  2012         31.48\n",
              "3123  2013         31.44\n",
              "3124  2014         29.99\n",
              "3125  2015         31.24\n",
              "3126  2016         29.84\n",
              "\n",
              "[3127 rows x 2 columns]"
            ]
          },
          "metadata": {
            "tags": []
          },
          "execution_count": 29
        }
      ]
    },
    {
      "cell_type": "markdown",
      "metadata": {
        "id": "384u3Ooh4Ym2"
      },
      "source": [
        "Clustering GHG Emission"
      ]
    },
    {
      "cell_type": "code",
      "metadata": {
        "id": "bZ1m_Qtb4V19",
        "outputId": "2a8b6b05-c0e1-4067-8b6d-ab9b18e0dd6c",
        "colab": {
          "base_uri": "https://localhost:8080/",
          "height": 131
        }
      },
      "source": [
        "#normalizing based on standard deviason\n",
        "from sklearn.preprocessing import StandardScaler\n",
        "#X7 = df_electricityd.values[:,0:]\n",
        "X7 = df_ghgd['ghg-emission']\n",
        "X7 = np.nan_to_num(X7).reshape(-1,1)\n",
        "Clus_dataSet = StandardScaler().fit_transform(X7)\n",
        "Clus_dataSet"
      ],
      "execution_count": 30,
      "outputs": [
        {
          "output_type": "execute_result",
          "data": {
            "text/plain": [
              "array([[-0.23069766],\n",
              "       [-0.23252668],\n",
              "       [-0.22948218],\n",
              "       ...,\n",
              "       [-0.21340304],\n",
              "       [-0.21195603],\n",
              "       [-0.21357668]])"
            ]
          },
          "metadata": {
            "tags": []
          },
          "execution_count": 30
        }
      ]
    },
    {
      "cell_type": "code",
      "metadata": {
        "id": "0v8xGH4I4d9F",
        "outputId": "eae51c05-d6a7-4b35-ce00-e7e807374b05",
        "colab": {
          "base_uri": "https://localhost:8080/",
          "height": 295
        }
      },
      "source": [
        "#K-Mean Clustering\n",
        "from sklearn.cluster import KMeans\n",
        "wcss = []\n",
        "for i in range(1, 11):\n",
        "    kmeans7 = KMeans(n_clusters = i, init = 'k-means++', random_state = 42)\n",
        "    kmeans7.fit(X7)\n",
        "    wcss.append(kmeans7.inertia_)\n",
        "plt.plot(range(1, 11), wcss)\n",
        "plt.title('Metode Elbow')\n",
        "plt.xlabel('Jumlah clusters')\n",
        "plt.ylabel('WCSS')\n",
        "plt.show()"
      ],
      "execution_count": 31,
      "outputs": [
        {
          "output_type": "display_data",
          "data": {
            "image/png": "[encoded data removed]",
            "text/plain": [
              "<Figure size 432x288 with 1 Axes>"
            ]
          },
          "metadata": {
            "tags": [],
            "needs_background": "light"
          }
        }
      ]
    },
    {
      "cell_type": "code",
      "metadata": {
        "id": "PFMwuKFl4hIu",
        "outputId": "58de8d98-483b-4d35-d8a7-3037c61e374b",
        "colab": {
          "base_uri": "https://localhost:8080/",
          "height": 33
        }
      },
      "source": [
        "clusterNum7 = 3\n",
        "k_means7 = KMeans(init = \"k-means++\", n_clusters = clusterNum7, n_init = 15)\n",
        "k_means7.fit(X7)\n",
        "labels7 = k_means7.labels_\n",
        "print(labels7)"
      ],
      "execution_count": 32,
      "outputs": [
        {
          "output_type": "stream",
          "text": [
            "[0 0 0 ... 0 0 0]\n"
          ],
          "name": "stdout"
        }
      ]
    },
    {
      "cell_type": "code",
      "metadata": {
        "id": "Ahd8Imrw4krr",
        "outputId": "1877fde7-893e-46aa-ff46-80f2c4890a33",
        "colab": {
          "base_uri": "https://localhost:8080/",
          "height": 391
        }
      },
      "source": [
        "df_ghgd[\"Cluster\"] = labels7\n",
        "df_ghgd"
      ],
      "execution_count": 33,
      "outputs": [
        {
          "output_type": "execute_result",
          "data": {
            "text/html": [
              "<div>\n",
              "<style scoped>\n",
              "    .dataframe tbody tr th:only-of-type {\n",
              "        vertical-align: middle;\n",
              "    }\n",
              "\n",
              "    .dataframe tbody tr th {\n",
              "        vertical-align: top;\n",
              "    }\n",
              "\n",
              "    .dataframe thead th {\n",
              "        text-align: right;\n",
              "    }\n",
              "</style>\n",
              "<table border=\"1\" class=\"dataframe\">\n",
              "  <thead>\n",
              "    <tr style=\"text-align: right;\">\n",
              "      <th></th>\n",
              "      <th>Year</th>\n",
              "      <th>ghg-emission</th>\n",
              "      <th>Cluster</th>\n",
              "    </tr>\n",
              "  </thead>\n",
              "  <tbody>\n",
              "    <tr>\n",
              "      <th>0</th>\n",
              "      <td>2000</td>\n",
              "      <td>15.05</td>\n",
              "      <td>0</td>\n",
              "    </tr>\n",
              "    <tr>\n",
              "      <th>1</th>\n",
              "      <td>2001</td>\n",
              "      <td>13.47</td>\n",
              "      <td>0</td>\n",
              "    </tr>\n",
              "    <tr>\n",
              "      <th>2</th>\n",
              "      <td>2002</td>\n",
              "      <td>16.10</td>\n",
              "      <td>0</td>\n",
              "    </tr>\n",
              "    <tr>\n",
              "      <th>3</th>\n",
              "      <td>2003</td>\n",
              "      <td>16.78</td>\n",
              "      <td>0</td>\n",
              "    </tr>\n",
              "    <tr>\n",
              "      <th>4</th>\n",
              "      <td>2004</td>\n",
              "      <td>16.35</td>\n",
              "      <td>0</td>\n",
              "    </tr>\n",
              "    <tr>\n",
              "      <th>...</th>\n",
              "      <td>...</td>\n",
              "      <td>...</td>\n",
              "      <td>...</td>\n",
              "    </tr>\n",
              "    <tr>\n",
              "      <th>3122</th>\n",
              "      <td>2012</td>\n",
              "      <td>31.48</td>\n",
              "      <td>0</td>\n",
              "    </tr>\n",
              "    <tr>\n",
              "      <th>3123</th>\n",
              "      <td>2013</td>\n",
              "      <td>31.44</td>\n",
              "      <td>0</td>\n",
              "    </tr>\n",
              "    <tr>\n",
              "      <th>3124</th>\n",
              "      <td>2014</td>\n",
              "      <td>29.99</td>\n",
              "      <td>0</td>\n",
              "    </tr>\n",
              "    <tr>\n",
              "      <th>3125</th>\n",
              "      <td>2015</td>\n",
              "      <td>31.24</td>\n",
              "      <td>0</td>\n",
              "    </tr>\n",
              "    <tr>\n",
              "      <th>3126</th>\n",
              "      <td>2016</td>\n",
              "      <td>29.84</td>\n",
              "      <td>0</td>\n",
              "    </tr>\n",
              "  </tbody>\n",
              "</table>\n",
              "<p>3127 rows × 3 columns</p>\n",
              "</div>"
            ],
            "text/plain": [
              "      Year  ghg-emission  Cluster\n",
              "0     2000         15.05        0\n",
              "1     2001         13.47        0\n",
              "2     2002         16.10        0\n",
              "3     2003         16.78        0\n",
              "4     2004         16.35        0\n",
              "...    ...           ...      ...\n",
              "3122  2012         31.48        0\n",
              "3123  2013         31.44        0\n",
              "3124  2014         29.99        0\n",
              "3125  2015         31.24        0\n",
              "3126  2016         29.84        0\n",
              "\n",
              "[3127 rows x 3 columns]"
            ]
          },
          "metadata": {
            "tags": []
          },
          "execution_count": 33
        }
      ]
    },
    {
      "cell_type": "markdown",
      "metadata": {
        "id": "i7o8lIOg4b-2"
      },
      "source": [
        "Clustering Electricity"
      ]
    },
    {
      "cell_type": "code",
      "metadata": {
        "id": "clc3cS0d4oh7",
        "outputId": "f2ebc74f-3c3c-42e5-da21-61abc8da76f4",
        "colab": {
          "base_uri": "https://localhost:8080/",
          "height": 131
        }
      },
      "source": [
        "#normalizing based on standard deviason\n",
        "from sklearn.preprocessing import StandardScaler\n",
        "X8 = df_electricityd.values[:,0:]\n",
        "#X7 = df_ghgd['ghg-emission']\n",
        "#X8 = np.nan_to_num(X8).reshape(-1,1)\n",
        "Clus_dataSet1= StandardScaler().fit_transform(X8)\n",
        "Clus_dataSet1"
      ],
      "execution_count": 34,
      "outputs": [
        {
          "output_type": "execute_result",
          "data": {
            "text/plain": [
              "array([[-1.61150526, -0.23713044],\n",
              "       [-1.40857163, -0.23686602],\n",
              "       [-1.20563801, -0.23666507],\n",
              "       ...,\n",
              "       [ 1.22956552, -0.2175848 ],\n",
              "       [ 1.43249915, -0.21825959],\n",
              "       [ 1.63543278, -0.22367906]])"
            ]
          },
          "metadata": {
            "tags": []
          },
          "execution_count": 34
        }
      ]
    },
    {
      "cell_type": "code",
      "metadata": {
        "id": "J6fGeBcr4thS",
        "outputId": "900dc11e-233f-4f0e-df9f-ffbe23cdf2e9",
        "colab": {
          "base_uri": "https://localhost:8080/",
          "height": 295
        }
      },
      "source": [
        "from sklearn.cluster import KMeans\n",
        "wcss0 = []\n",
        "for i in range(1, 11):\n",
        "    kmeans0 = KMeans(n_clusters = i, init = 'k-means++', random_state = 42)\n",
        "    kmeans0.fit(X8)\n",
        "    wcss0.append(kmeans0.inertia_)\n",
        "plt.plot(range(1, 11), wcss)\n",
        "plt.title('Metode Elbow')\n",
        "plt.xlabel('Jumlah clusters')\n",
        "plt.ylabel('WCSS')\n",
        "plt.show()"
      ],
      "execution_count": 35,
      "outputs": [
        {
          "output_type": "display_data",
          "data": {
            "image/png": "[encoded data removed]",
            "text/plain": [
              "<Figure size 432x288 with 1 Axes>"
            ]
          },
          "metadata": {
            "tags": [],
            "needs_background": "light"
          }
        }
      ]
    },
    {
      "cell_type": "code",
      "metadata": {
        "id": "8tRxLtB64uxu",
        "outputId": "8905ea11-a925-49af-f28c-386ce16aac79",
        "colab": {
          "base_uri": "https://localhost:8080/",
          "height": 50
        }
      },
      "source": [
        "clusterNum0 = 3\n",
        "k_means0 = KMeans(init = \"k-means++\", n_clusters = clusterNum0, n_init = 15)\n",
        "k_means0.fit(X8)\n",
        "labels0 = k_means0.labels_\n",
        "print(labels0)\n",
        "print(len(labels0))"
      ],
      "execution_count": 36,
      "outputs": [
        {
          "output_type": "stream",
          "text": [
            "[0 0 0 ... 0 0 0]\n",
            "3155\n"
          ],
          "name": "stdout"
        }
      ]
    },
    {
      "cell_type": "code",
      "metadata": {
        "id": "-dSgTl5Q4y15",
        "outputId": "bfa49c30-b780-493b-fcfe-e37aafcb7034",
        "colab": {
          "base_uri": "https://localhost:8080/",
          "height": 391
        }
      },
      "source": [
        "df_electricityd[\"Cluster\"] = labels0\n",
        "df_electricityd"
      ],
      "execution_count": 37,
      "outputs": [
        {
          "output_type": "execute_result",
          "data": {
            "text/html": [
              "<div>\n",
              "<style scoped>\n",
              "    .dataframe tbody tr th:only-of-type {\n",
              "        vertical-align: middle;\n",
              "    }\n",
              "\n",
              "    .dataframe tbody tr th {\n",
              "        vertical-align: top;\n",
              "    }\n",
              "\n",
              "    .dataframe thead th {\n",
              "        text-align: right;\n",
              "    }\n",
              "</style>\n",
              "<table border=\"1\" class=\"dataframe\">\n",
              "  <thead>\n",
              "    <tr style=\"text-align: right;\">\n",
              "      <th></th>\n",
              "      <th>Year</th>\n",
              "      <th>Electricity Generation (TWh)</th>\n",
              "      <th>Cluster</th>\n",
              "    </tr>\n",
              "  </thead>\n",
              "  <tbody>\n",
              "    <tr>\n",
              "      <th>0</th>\n",
              "      <td>2000</td>\n",
              "      <td>0.467</td>\n",
              "      <td>0</td>\n",
              "    </tr>\n",
              "    <tr>\n",
              "      <th>1</th>\n",
              "      <td>2001</td>\n",
              "      <td>0.592</td>\n",
              "      <td>0</td>\n",
              "    </tr>\n",
              "    <tr>\n",
              "      <th>2</th>\n",
              "      <td>2002</td>\n",
              "      <td>0.687</td>\n",
              "      <td>0</td>\n",
              "    </tr>\n",
              "    <tr>\n",
              "      <th>3</th>\n",
              "      <td>2003</td>\n",
              "      <td>0.939</td>\n",
              "      <td>0</td>\n",
              "    </tr>\n",
              "    <tr>\n",
              "      <th>4</th>\n",
              "      <td>2004</td>\n",
              "      <td>0.894</td>\n",
              "      <td>0</td>\n",
              "    </tr>\n",
              "    <tr>\n",
              "      <th>...</th>\n",
              "      <td>...</td>\n",
              "      <td>...</td>\n",
              "      <td>...</td>\n",
              "    </tr>\n",
              "    <tr>\n",
              "      <th>3150</th>\n",
              "      <td>2012</td>\n",
              "      <td>8.929</td>\n",
              "      <td>0</td>\n",
              "    </tr>\n",
              "    <tr>\n",
              "      <th>3151</th>\n",
              "      <td>2013</td>\n",
              "      <td>9.256</td>\n",
              "      <td>0</td>\n",
              "    </tr>\n",
              "    <tr>\n",
              "      <th>3152</th>\n",
              "      <td>2014</td>\n",
              "      <td>9.707</td>\n",
              "      <td>0</td>\n",
              "    </tr>\n",
              "    <tr>\n",
              "      <th>3153</th>\n",
              "      <td>2015</td>\n",
              "      <td>9.388</td>\n",
              "      <td>0</td>\n",
              "    </tr>\n",
              "    <tr>\n",
              "      <th>3154</th>\n",
              "      <td>2016</td>\n",
              "      <td>6.826</td>\n",
              "      <td>0</td>\n",
              "    </tr>\n",
              "  </tbody>\n",
              "</table>\n",
              "<p>3155 rows × 3 columns</p>\n",
              "</div>"
            ],
            "text/plain": [
              "      Year  Electricity Generation (TWh)  Cluster\n",
              "0     2000                         0.467        0\n",
              "1     2001                         0.592        0\n",
              "2     2002                         0.687        0\n",
              "3     2003                         0.939        0\n",
              "4     2004                         0.894        0\n",
              "...    ...                           ...      ...\n",
              "3150  2012                         8.929        0\n",
              "3151  2013                         9.256        0\n",
              "3152  2014                         9.707        0\n",
              "3153  2015                         9.388        0\n",
              "3154  2016                         6.826        0\n",
              "\n",
              "[3155 rows x 3 columns]"
            ]
          },
          "metadata": {
            "tags": []
          },
          "execution_count": 37
        }
      ]
    },
    {
      "cell_type": "code",
      "metadata": {
        "id": "Jrth7uNG5Fe-",
        "outputId": "c6a10b41-9b4c-48fd-e33f-00f2d8313361",
        "colab": {
          "base_uri": "https://localhost:8080/",
          "height": 180
        }
      },
      "source": [
        "pip install pycountry"
      ],
      "execution_count": 40,
      "outputs": [
        {
          "output_type": "stream",
          "text": [
            "Collecting pycountry\n",
            "\u001b[?25l  Downloading https://files.pythonhosted.org/packages/76/73/6f1a412f14f68c273feea29a6ea9b9f1e268177d32e0e69ad6790d306312/pycountry-20.7.3.tar.gz (10.1MB)\n",
            "\u001b[K     |████████████████████████████████| 10.1MB 2.6MB/s \n",
            "\u001b[?25hBuilding wheels for collected packages: pycountry\n",
            "  Building wheel for pycountry (setup.py) ... \u001b[?25l\u001b[?25hdone\n",
            "  Created wheel for pycountry: filename=pycountry-20.7.3-py2.py3-none-any.whl size=10746865 sha256=54dfa7a03c30efcf6b25fe8a2a9f650fe217883f5a613f7315599ca70bb51515\n",
            "  Stored in directory: /root/.cache/pip/wheels/33/4e/a6/be297e6b83567e537bed9df4a93f8590ec01c1acfbcd405348\n",
            "Successfully built pycountry\n",
            "Installing collected packages: pycountry\n",
            "Successfully installed pycountry-20.7.3\n"
          ],
          "name": "stdout"
        }
      ]
    },
    {
      "cell_type": "code",
      "metadata": {
        "id": "MDkEG7lH5AR4",
        "outputId": "e5f586c0-eafd-4d95-da8d-1c8e5bc45156",
        "colab": {
          "base_uri": "https://localhost:8080/",
          "height": 423
        }
      },
      "source": [
        "pip install geopandas"
      ],
      "execution_count": 41,
      "outputs": [
        {
          "output_type": "stream",
          "text": [
            "Collecting geopandas\n",
            "\u001b[?25l  Downloading https://files.pythonhosted.org/packages/f7/a4/e66aafbefcbb717813bf3a355c8c4fc3ed04ea1dd7feb2920f2f4f868921/geopandas-0.8.1-py2.py3-none-any.whl (962kB)\n",
            "\r\u001b[K     |▍                               | 10kB 14.7MB/s eta 0:00:01\r\u001b[K     |▊                               | 20kB 1.7MB/s eta 0:00:01\r\u001b[K     |█                               | 30kB 2.3MB/s eta 0:00:01\r\u001b[K     |█▍                              | 40kB 2.6MB/s eta 0:00:01\r\u001b[K     |█▊                              | 51kB 2.0MB/s eta 0:00:01\r\u001b[K     |██                              | 61kB 2.3MB/s eta 0:00:01\r\u001b[K     |██▍                             | 71kB 2.5MB/s eta 0:00:01\r\u001b[K     |██▊                             | 81kB 2.7MB/s eta 0:00:01\r\u001b[K     |███                             | 92kB 2.9MB/s eta 0:00:01\r\u001b[K     |███▍                            | 102kB 2.8MB/s eta 0:00:01\r\u001b[K     |███▊                            | 112kB 2.8MB/s eta 0:00:01\r\u001b[K     |████                            | 122kB 2.8MB/s eta 0:00:01\r\u001b[K     |████▍                           | 133kB 2.8MB/s eta 0:00:01\r\u001b[K     |████▊                           | 143kB 2.8MB/s eta 0:00:01\r\u001b[K     |█████                           | 153kB 2.8MB/s eta 0:00:01\r\u001b[K     |█████▌                          | 163kB 2.8MB/s eta 0:00:01\r\u001b[K     |█████▉                          | 174kB 2.8MB/s eta 0:00:01\r\u001b[K     |██████▏                         | 184kB 2.8MB/s eta 0:00:01\r\u001b[K     |██████▌                         | 194kB 2.8MB/s eta 0:00:01\r\u001b[K     |██████▉                         | 204kB 2.8MB/s eta 0:00:01\r\u001b[K     |███████▏                        | 215kB 2.8MB/s eta 0:00:01\r\u001b[K     |███████▌                        | 225kB 2.8MB/s eta 0:00:01\r\u001b[K     |███████▉                        | 235kB 2.8MB/s eta 0:00:01\r\u001b[K     |████████▏                       | 245kB 2.8MB/s eta 0:00:01\r\u001b[K     |████████▌                       | 256kB 2.8MB/s eta 0:00:01\r\u001b[K     |████████▉                       | 266kB 2.8MB/s eta 0:00:01\r\u001b[K     |█████████▏                      | 276kB 2.8MB/s eta 0:00:01\r\u001b[K     |█████████▌                      | 286kB 2.8MB/s eta 0:00:01\r\u001b[K     |█████████▉                      | 296kB 2.8MB/s eta 0:00:01\r\u001b[K     |██████████▏                     | 307kB 2.8MB/s eta 0:00:01\r\u001b[K     |██████████▌                     | 317kB 2.8MB/s eta 0:00:01\r\u001b[K     |███████████                     | 327kB 2.8MB/s eta 0:00:01\r\u001b[K     |███████████▎                    | 337kB 2.8MB/s eta 0:00:01\r\u001b[K     |███████████▋                    | 348kB 2.8MB/s eta 0:00:01\r\u001b[K     |████████████                    | 358kB 2.8MB/s eta 0:00:01\r\u001b[K     |████████████▎                   | 368kB 2.8MB/s eta 0:00:01\r\u001b[K     |████████████▋                   | 378kB 2.8MB/s eta 0:00:01\r\u001b[K     |█████████████                   | 389kB 2.8MB/s eta 0:00:01\r\u001b[K     |█████████████▎                  | 399kB 2.8MB/s eta 0:00:01\r\u001b[K     |█████████████▋                  | 409kB 2.8MB/s eta 0:00:01\r\u001b[K     |██████████████                  | 419kB 2.8MB/s eta 0:00:01\r\u001b[K     |██████████████▎                 | 430kB 2.8MB/s eta 0:00:01\r\u001b[K     |██████████████▋                 | 440kB 2.8MB/s eta 0:00:01\r\u001b[K     |███████████████                 | 450kB 2.8MB/s eta 0:00:01\r\u001b[K     |███████████████▎                | 460kB 2.8MB/s eta 0:00:01\r\u001b[K     |███████████████▋                | 471kB 2.8MB/s eta 0:00:01\r\u001b[K     |████████████████                | 481kB 2.8MB/s eta 0:00:01\r\u001b[K     |████████████████▍               | 491kB 2.8MB/s eta 0:00:01\r\u001b[K     |████████████████▊               | 501kB 2.8MB/s eta 0:00:01\r\u001b[K     |█████████████████               | 512kB 2.8MB/s eta 0:00:01\r\u001b[K     |█████████████████▍              | 522kB 2.8MB/s eta 0:00:01\r\u001b[K     |█████████████████▊              | 532kB 2.8MB/s eta 0:00:01\r\u001b[K     |██████████████████              | 542kB 2.8MB/s eta 0:00:01\r\u001b[K     |██████████████████▍             | 552kB 2.8MB/s eta 0:00:01\r\u001b[K     |██████████████████▊             | 563kB 2.8MB/s eta 0:00:01\r\u001b[K     |███████████████████             | 573kB 2.8MB/s eta 0:00:01\r\u001b[K     |███████████████████▍            | 583kB 2.8MB/s eta 0:00:01\r\u001b[K     |███████████████████▊            | 593kB 2.8MB/s eta 0:00:01\r\u001b[K     |████████████████████            | 604kB 2.8MB/s eta 0:00:01\r\u001b[K     |████████████████████▍           | 614kB 2.8MB/s eta 0:00:01\r\u001b[K     |████████████████████▊           | 624kB 2.8MB/s eta 0:00:01\r\u001b[K     |█████████████████████           | 634kB 2.8MB/s eta 0:00:01\r\u001b[K     |█████████████████████▍          | 645kB 2.8MB/s eta 0:00:01\r\u001b[K     |█████████████████████▉          | 655kB 2.8MB/s eta 0:00:01\r\u001b[K     |██████████████████████▏         | 665kB 2.8MB/s eta 0:00:01\r\u001b[K     |██████████████████████▌         | 675kB 2.8MB/s eta 0:00:01\r\u001b[K     |██████████████████████▉         | 686kB 2.8MB/s eta 0:00:01\r\u001b[K     |███████████████████████▏        | 696kB 2.8MB/s eta 0:00:01\r\u001b[K     |███████████████████████▌        | 706kB 2.8MB/s eta 0:00:01\r\u001b[K     |███████████████████████▉        | 716kB 2.8MB/s eta 0:00:01\r\u001b[K     |████████████████████████▏       | 727kB 2.8MB/s eta 0:00:01\r\u001b[K     |████████████████████████▌       | 737kB 2.8MB/s eta 0:00:01\r\u001b[K     |████████████████████████▉       | 747kB 2.8MB/s eta 0:00:01\r\u001b[K     |█████████████████████████▏      | 757kB 2.8MB/s eta 0:00:01\r\u001b[K     |█████████████████████████▌      | 768kB 2.8MB/s eta 0:00:01\r\u001b[K     |█████████████████████████▉      | 778kB 2.8MB/s eta 0:00:01\r\u001b[K     |██████████████████████████▏     | 788kB 2.8MB/s eta 0:00:01\r\u001b[K     |██████████████████████████▌     | 798kB 2.8MB/s eta 0:00:01\r\u001b[K     |██████████████████████████▉     | 808kB 2.8MB/s eta 0:00:01\r\u001b[K     |███████████████████████████▎    | 819kB 2.8MB/s eta 0:00:01\r\u001b[K     |███████████████████████████▋    | 829kB 2.8MB/s eta 0:00:01\r\u001b[K     |████████████████████████████    | 839kB 2.8MB/s eta 0:00:01\r\u001b[K     |████████████████████████████▎   | 849kB 2.8MB/s eta 0:00:01\r\u001b[K     |████████████████████████████▋   | 860kB 2.8MB/s eta 0:00:01\r\u001b[K     |█████████████████████████████   | 870kB 2.8MB/s eta 0:00:01\r\u001b[K     |█████████████████████████████▎  | 880kB 2.8MB/s eta 0:00:01\r\u001b[K     |█████████████████████████████▋  | 890kB 2.8MB/s eta 0:00:01\r\u001b[K     |██████████████████████████████  | 901kB 2.8MB/s eta 0:00:01\r\u001b[K     |██████████████████████████████▎ | 911kB 2.8MB/s eta 0:00:01\r\u001b[K     |██████████████████████████████▋ | 921kB 2.8MB/s eta 0:00:01\r\u001b[K     |███████████████████████████████ | 931kB 2.8MB/s eta 0:00:01\r\u001b[K     |███████████████████████████████▎| 942kB 2.8MB/s eta 0:00:01\r\u001b[K     |███████████████████████████████▋| 952kB 2.8MB/s eta 0:00:01\r\u001b[K     |████████████████████████████████| 962kB 2.8MB/s eta 0:00:01\r\u001b[K     |████████████████████████████████| 972kB 2.8MB/s \n",
            "\u001b[?25hRequirement already satisfied: shapely in /usr/local/lib/python3.6/dist-packages (from geopandas) (1.7.1)\n",
            "Requirement already satisfied: pandas>=0.23.0 in /usr/local/lib/python3.6/dist-packages (from geopandas) (1.1.2)\n",
            "Collecting pyproj>=2.2.0\n",
            "\u001b[?25l  Downloading https://files.pythonhosted.org/packages/e5/c3/071e080230ac4b6c64f1a2e2f9161c9737a2bc7b683d2c90b024825000c0/pyproj-2.6.1.post1-cp36-cp36m-manylinux2010_x86_64.whl (10.9MB)\n",
            "\u001b[K     |████████████████████████████████| 10.9MB 14.0MB/s \n",
            "\u001b[?25hCollecting fiona\n",
            "\u001b[?25l  Downloading https://files.pythonhosted.org/packages/36/8b/e8b2c11bed5373c8e98edb85ce891b09aa1f4210fd451d0fb3696b7695a2/Fiona-1.8.17-cp36-cp36m-manylinux1_x86_64.whl (14.8MB)\n",
            "\u001b[K     |████████████████████████████████| 14.8MB 319kB/s \n",
            "\u001b[?25hRequirement already satisfied: numpy>=1.15.4 in /usr/local/lib/python3.6/dist-packages (from pandas>=0.23.0->geopandas) (1.18.5)\n",
            "Requirement already satisfied: python-dateutil>=2.7.3 in /usr/local/lib/python3.6/dist-packages (from pandas>=0.23.0->geopandas) (2.8.1)\n",
            "Requirement already satisfied: pytz>=2017.2 in /usr/local/lib/python3.6/dist-packages (from pandas>=0.23.0->geopandas) (2018.9)\n",
            "Requirement already satisfied: attrs>=17 in /usr/local/lib/python3.6/dist-packages (from fiona->geopandas) (20.2.0)\n",
            "Collecting click-plugins>=1.0\n",
            "  Downloading https://files.pythonhosted.org/packages/e9/da/824b92d9942f4e472702488857914bdd50f73021efea15b4cad9aca8ecef/click_plugins-1.1.1-py2.py3-none-any.whl\n",
            "Requirement already satisfied: click<8,>=4.0 in /usr/local/lib/python3.6/dist-packages (from fiona->geopandas) (7.1.2)\n",
            "Collecting cligj>=0.5\n",
            "  Downloading https://files.pythonhosted.org/packages/ba/06/e3440b1f2dc802d35f329f299ba96153e9fcbfdef75e17f4b61f79430c6a/cligj-0.7.0-py3-none-any.whl\n",
            "Requirement already satisfied: six>=1.7 in /usr/local/lib/python3.6/dist-packages (from fiona->geopandas) (1.15.0)\n",
            "Collecting munch\n",
            "  Downloading https://files.pythonhosted.org/packages/cc/ab/85d8da5c9a45e072301beb37ad7f833cd344e04c817d97e0cc75681d248f/munch-2.5.0-py2.py3-none-any.whl\n",
            "Installing collected packages: pyproj, click-plugins, cligj, munch, fiona, geopandas\n",
            "Successfully installed click-plugins-1.1.1 cligj-0.7.0 fiona-1.8.17 geopandas-0.8.1 munch-2.5.0 pyproj-2.6.1.post1\n"
          ],
          "name": "stdout"
        }
      ]
    },
    {
      "cell_type": "code",
      "metadata": {
        "id": "DtcybQqW5KpW",
        "outputId": "13fc0ab8-a448-47b6-fd95-5bdffc5ed7b7",
        "colab": {
          "base_uri": "https://localhost:8080/",
          "height": 245
        }
      },
      "source": [
        "pip install mapclassify"
      ],
      "execution_count": 42,
      "outputs": [
        {
          "output_type": "stream",
          "text": [
            "Collecting mapclassify\n",
            "  Downloading https://files.pythonhosted.org/packages/11/80/cd58dc848a93bfb01c4b84f26e3d5d6c64266163ca1e2453c3f6fb291ef7/mapclassify-2.3.0-py3-none-any.whl\n",
            "Requirement already satisfied: scipy>=1.0 in /usr/local/lib/python3.6/dist-packages (from mapclassify) (1.4.1)\n",
            "Requirement already satisfied: networkx in /usr/local/lib/python3.6/dist-packages (from mapclassify) (2.5)\n",
            "Requirement already satisfied: pandas>=1.0 in /usr/local/lib/python3.6/dist-packages (from mapclassify) (1.1.2)\n",
            "Requirement already satisfied: numpy>=1.3 in /usr/local/lib/python3.6/dist-packages (from mapclassify) (1.18.5)\n",
            "Requirement already satisfied: scikit-learn in /usr/local/lib/python3.6/dist-packages (from mapclassify) (0.22.2.post1)\n",
            "Requirement already satisfied: decorator>=4.3.0 in /usr/local/lib/python3.6/dist-packages (from networkx->mapclassify) (4.4.2)\n",
            "Requirement already satisfied: python-dateutil>=2.7.3 in /usr/local/lib/python3.6/dist-packages (from pandas>=1.0->mapclassify) (2.8.1)\n",
            "Requirement already satisfied: pytz>=2017.2 in /usr/local/lib/python3.6/dist-packages (from pandas>=1.0->mapclassify) (2018.9)\n",
            "Requirement already satisfied: joblib>=0.11 in /usr/local/lib/python3.6/dist-packages (from scikit-learn->mapclassify) (0.16.0)\n",
            "Requirement already satisfied: six>=1.5 in /usr/local/lib/python3.6/dist-packages (from python-dateutil>=2.7.3->pandas>=1.0->mapclassify) (1.15.0)\n",
            "Installing collected packages: mapclassify\n",
            "Successfully installed mapclassify-2.3.0\n"
          ],
          "name": "stdout"
        }
      ]
    },
    {
      "cell_type": "code",
      "metadata": {
        "id": "MDBOuVMc5L66"
      },
      "source": [
        "# World Map Visualization\n",
        "\n",
        "import pycountry \n",
        "import geopandas\n",
        "import mapclassify\n",
        "\n",
        "def alpha3code(column):\n",
        "    CODE=[]\n",
        "    for country in column:\n",
        "        try:\n",
        "            code=pycountry.countries.get(name=country).alpha_3\n",
        "           # .alpha_3 means 3-letter country code \n",
        "           # .alpha_2 means 2-letter country code\n",
        "            CODE.append(code)\n",
        "        except:\n",
        "            CODE.append('None')\n",
        "    return CODE\n",
        "    \n",
        "# create a column for code \n",
        "df_electricityd['Country'] = df_electricity['Country']\n",
        "df_ghgd['Country'] = df_ghg['Country']\n",
        "\n",
        "df_electricityd['CODE'] = alpha3code(df_electricity['Country'])\n",
        "df_ghgd['CODE'] = alpha3code(df_ghg['Country'])"
      ],
      "execution_count": 44,
      "outputs": []
    },
    {
      "cell_type": "code",
      "metadata": {
        "id": "Xq1O9FVE5S_f"
      },
      "source": [
        "world = geopandas.read_file(geopandas.datasets.get_path('naturalearth_lowres'))\n",
        "\n",
        "# rename the columns so that we can merge with our data\n",
        "world.columns=['pop_est', 'continent', 'name', 'CODE', 'gdp_md_est', 'geometry']\n",
        "world = world.drop(columns=['pop_est','name','gdp_md_est'])\n",
        "\n",
        "# then merge with our data \n",
        "merge_electricity=pd.merge(world,df_electricityd,on='CODE')\n",
        "merge_ghg=pd.merge(world,df_ghgd,on='CODE')"
      ],
      "execution_count": 45,
      "outputs": []
    },
    {
      "cell_type": "code",
      "metadata": {
        "id": "5n1ugpZe5Uzp",
        "outputId": "7c2fc4f7-08e2-49fd-e8e3-28da411cdc45",
        "colab": {
          "base_uri": "https://localhost:8080/",
          "height": 775
        }
      },
      "source": [
        "merge_electricity.plot(column='Cluster', scheme=\"quantiles\",\n",
        "           figsize=(25, 20),\n",
        "           legend=True ,cmap='BrBG')\n",
        "\n",
        "plt.title('World Electricity Usage',fontsize=25)"
      ],
      "execution_count": 46,
      "outputs": [
        {
          "output_type": "stream",
          "text": [
            "/usr/local/lib/python3.6/dist-packages/mapclassify/classifiers.py:236: UserWarning:\n",
            "\n",
            "Warning: Not enough unique values in array to form k classes\n",
            "\n",
            "/usr/local/lib/python3.6/dist-packages/mapclassify/classifiers.py:238: UserWarning:\n",
            "\n",
            "Warning: setting k to 2\n",
            "\n"
          ],
          "name": "stderr"
        },
        {
          "output_type": "execute_result",
          "data": {
            "text/plain": [
              "Text(0.5, 1.0, 'World Electricity Usage')"
            ]
          },
          "metadata": {
            "tags": []
          },
          "execution_count": 46
        },
        {
          "output_type": "display_data",
          "data": {
            "image/png": "[encoded data removed]",
            "text/plain": [
              "<Figure size 1800x1440 with 1 Axes>"
            ]
          },
          "metadata": {
            "tags": [],
            "needs_background": "light"
          }
        }
      ]
    },
    {
      "cell_type": "code",
      "metadata": {
        "id": "qNgMutpx5XWH",
        "outputId": "4943607c-ae02-4dcd-8035-17b83deac370",
        "colab": {
          "base_uri": "https://localhost:8080/",
          "height": 773
        }
      },
      "source": [
        "merge_ghg.plot(column='Cluster', scheme=\"quantiles\",\n",
        "           figsize=(25, 20),\n",
        "           legend=True ,cmap='BrBG')\n",
        "\n",
        "plt.title('WOrld GHG Emission',fontsize=25)"
      ],
      "execution_count": 47,
      "outputs": [
        {
          "output_type": "stream",
          "text": [
            "/usr/local/lib/python3.6/dist-packages/mapclassify/classifiers.py:236: UserWarning:\n",
            "\n",
            "Warning: Not enough unique values in array to form k classes\n",
            "\n",
            "/usr/local/lib/python3.6/dist-packages/mapclassify/classifiers.py:238: UserWarning:\n",
            "\n",
            "Warning: setting k to 2\n",
            "\n"
          ],
          "name": "stderr"
        },
        {
          "output_type": "execute_result",
          "data": {
            "text/plain": [
              "Text(0.5, 1.0, 'WOrld GHG Emission')"
            ]
          },
          "metadata": {
            "tags": []
          },
          "execution_count": 47
        },
        {
          "output_type": "display_data",
          "data": {
            "image/png": "[encoded data removed]",
            "text/plain": [
              "<Figure size 1800x1440 with 1 Axes>"
            ]
          },
          "metadata": {
            "tags": [],
            "needs_background": "light"
          }
        }
      ]
    },
    {
      "cell_type": "markdown",
      "metadata": {
        "id": "vRhk3r99qDWS"
      },
      "source": [
        "# Evaluating"
      ]
    },
    {
      "cell_type": "code",
      "metadata": {
        "id": "S-q9ePlaqFJD",
        "outputId": "ed76a2fd-5cd9-49c7-9ffd-3b3e122a1fc3",
        "colab": {
          "base_uri": "https://localhost:8080/",
          "height": 50
        }
      },
      "source": [
        "#Evaluation\n",
        "\n",
        "from sklearn.metrics import silhouette_samples, silhouette_score\n",
        "\n",
        "# Get silhouette samples\n",
        "silhouette_vals_electricity = silhouette_samples(Clus_dataSet1, labels0)\n",
        "silhouette_vals_ghg = silhouette_samples(Clus_dataSet, labels7)\n",
        "\n",
        "# Get the average silhouette score and plot it\n",
        "avg_score_electricity = np.mean(silhouette_vals_electricity)\n",
        "avg_score_ghg = np.mean(silhouette_vals_ghg)\n",
        "\n",
        "print(\"Rerata Silhouette Koefisien World Electricty Data: {:5.5f}\".format(avg_score_electricity))\n",
        "print(\"Rerata Silhouette Koefisien Greenhouse gas Data: {:5.5f}\".format(avg_score_ghg))"
      ],
      "execution_count": 38,
      "outputs": [
        {
          "output_type": "stream",
          "text": [
            "Rerata Silhouette Koefisien World Electricty Data: 0.44092\n",
            "Rerata Silhouette Koefisien Greenhouse gas Data: 0.90808\n"
          ],
          "name": "stdout"
        }
      ]
    },
    {
      "cell_type": "code",
      "metadata": {
        "id": "p7Xhp2GG418Z"
      },
      "source": [
        ""
      ],
      "execution_count": null,
      "outputs": []
    }
  ]
}